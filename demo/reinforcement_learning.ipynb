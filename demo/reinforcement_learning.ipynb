{
 "cells": [
  {
   "cell_type": "markdown",
   "metadata": {},
   "source": [
    "# RNA Structure Prediction Through Reinforcement Learning\n",
    "\n",
    "This notebook shows how to train and evaluate a simple model with reinforcement\n",
    "learning.\n",
    "\n",
    "\n",
    "## Requirements to Execute this Notebook\n",
    "\n",
    "- A Python virtual environment installed as described in the `readme.rst` file\n",
    "  of the project.\n",
    "\n",
    "\n",
    "## Presentation\n",
    "\n",
    "Reinforcement learning (RL) is a machine learning approach that consists in\n",
    "training an *agent* to perform the right *actions* against an *environment* to\n",
    "accomplish some task.\n",
    "\n",
    "\n",
    "## Why Not Use Deep Learning Instead?\n",
    "\n",
    "RL imposes physical constraints more effectively than DL.\n",
    "\n",
    "Neural networks produce a matrix whose elements range between 0 and 1 that can\n",
    "be interpreted as pseudo energies terms. This output has to be converted to a\n",
    "contact matrix by applying hard constraints.\n",
    "\n",
    "Some models, like ATTFold, apply hard constraint by multiplying the contact\n",
    "matrix with a mask that represents physically possible pairings with 1 and other\n",
    "pairings with 0. This approach improves the predictions by eliminating some\n",
    "false positives, but not all of them. In most cases, the masked prediction has\n",
    "to be further processed to obtain the prediction. This can be done with\n",
    "non-learning methods (i.e. applying rules) or training an algorithm to do it.\n",
    "\n",
    "\n",
    "## Application to RNA Structure Prediction\n",
    "\n",
    "In the context of RNA secondary structure prediction, a\n",
    "RL model can use the following components:\n",
    "\n",
    "- The **agent** is a function that predicts the structure.\n",
    "- The **actions** performed by the agent consist in (1) adding an element to the\n",
    "  contact matrix, (2) removing an element from the contact matrix, and (3)\n",
    "  displacing an element in the contact matrix.\n",
    "- The **environment** is a contact matrix.\n",
    "- The **reward** is a function that compares the predicted structure against the\n",
    "  real structure.\n"
   ]
  }
 ],
 "metadata": {
  "language_info": {
   "name": "python"
  }
 },
 "nbformat": 4,
 "nbformat_minor": 2
}
