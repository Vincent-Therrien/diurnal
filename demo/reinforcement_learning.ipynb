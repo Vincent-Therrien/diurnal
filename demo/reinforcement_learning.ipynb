{
 "cells": [
  {
   "cell_type": "markdown",
   "metadata": {},
   "source": [
    "# RNA Structure Prediction Through Reinforcement Learning\n",
    "\n",
    "This notebook shows how to train and evaluate a simple model with reinforcement\n",
    "learning.\n",
    "\n",
    "\n",
    "## Requirements to Execute this Notebook\n",
    "\n",
    "- A Python virtual environment installed as described in the `readme.rst` file\n",
    "  of the project.\n",
    "\n",
    "\n",
    "## Presentation\n",
    "\n",
    "Reinforcement learning (RL) is a machine learning approach that consists in\n",
    "training an *agent* to perform the right *actions* against an *environment* to\n",
    "accomplish some task.\n",
    "\n",
    "\n",
    "### Why Not Use Deep Learning Instead?\n",
    "\n",
    "RL imposes physical constraints more effectively than DL.\n",
    "\n",
    "Neural networks produce a matrix whose elements range between 0 and 1 that can\n",
    "be interpreted as pseudo energies terms. This output has to be converted to a\n",
    "contact matrix by applying hard constraints.\n",
    "\n",
    "Some models, like ATTFold, apply hard constraint by multiplying the contact\n",
    "matrix with a mask that represents physically possible pairings with 1 and other\n",
    "pairings with 0. This approach improves the predictions by eliminating some\n",
    "false positives, but not all of them. In most cases, the masked prediction has\n",
    "to be further processed to obtain the prediction. This can be done with\n",
    "non-learning methods (i.e. applying rules) or training an algorithm to do it.\n",
    "\n",
    "\n",
    "### Application to RNA Structure Prediction\n",
    "\n",
    "In the context of RNA secondary structure prediction, a\n",
    "RL model can use the following components:\n",
    "\n",
    "- The **agent** is a function that predicts the structure.\n",
    "- The **actions** performed by the agent consist in (1) adding an element to the\n",
    "  contact matrix, (2) removing an element from the contact matrix, and (3)\n",
    "  displacing an element in the contact matrix.\n",
    "- The **environment** is a contact matrix.\n",
    "- The **reward** is a function that compares the predicted structure against the\n",
    "  real structure.\n",
    "\n",
    "\n",
    "## Model\n",
    "\n",
    "\n",
    "### Required Imports"
   ]
  },
  {
   "cell_type": "code",
   "execution_count": 1,
   "metadata": {},
   "outputs": [],
   "source": [
    "from random import randint\n",
    "\n",
    "from torch import nn, optim, stack, squeeze, tensor\n",
    "import torch.nn.functional as F\n",
    "\n",
    "from diurnal import train, structure, visualize, evaluate\n",
    "import diurnal.models\n",
    "from diurnal.utils import synthetic"
   ]
  },
  {
   "cell_type": "markdown",
   "metadata": {},
   "source": [
    "### Prepare Input Data\n",
    "\n",
    "This section creates synthetic data. Refer to the notebook\n",
    "`synthetic_pipeline.ipynb` for a detailed presentation of the process."
   ]
  },
  {
   "cell_type": "code",
   "execution_count": 2,
   "metadata": {},
   "outputs": [],
   "source": [
    "# Create data.\n",
    "N = 2000  # Number of structures. May contain duplicates.\n",
    "n_min = 10  # Minimum length of a synthetic structure.\n",
    "n_max = 32  # Maximum length of a synthetic structure.\n",
    "\n",
    "primary = []\n",
    "secondary = []\n",
    "\n",
    "for _ in range(N):\n",
    "    p, s = synthetic.make_structures(randint(n_min, n_max))\n",
    "    primary.append(p)\n",
    "    secondary.append(s)\n",
    "\n",
    "train_x, validation_x, test_x = train.split(primary, (0.8, 0.1, 0.1))\n",
    "train_y, validation_y, test_y = train.split(secondary, (0.8, 0.1, 0.1))"
   ]
  },
  {
   "cell_type": "code",
   "execution_count": 3,
   "metadata": {},
   "outputs": [],
   "source": [
    "# Format data.\n",
    "SIZE = 32  # Normalized input size.\n",
    "SCHEME = structure.Schemes.IUPAC_PAIRINGS_SCALARS  # Primary structure encoding.\n",
    "primary_formatter = lambda X: [\n",
    "    structure.to_half_matrix(\n",
    "        structure.Primary.to_matrix(x, SIZE, SCHEME)\n",
    "    ) for x in X\n",
    "]\n",
    "\n",
    "train_x = primary_formatter(train_x)\n",
    "validation_x = primary_formatter(validation_x)\n",
    "test_x = primary_formatter(test_x)\n",
    "\n",
    "POWER = 5  # Parameter to elaborate the distance matrix.\n",
    "secondary_formatter = lambda Y: [\n",
    "    structure.to_half_matrix(\n",
    "        structure.Secondary.to_distance_matrix(y, SIZE, power = POWER)\n",
    "    ) for y in Y\n",
    "]\n",
    "train_y = secondary_formatter(train_y)\n",
    "validation_y = secondary_formatter(validation_y)\n",
    "test_y = secondary_formatter(test_y)"
   ]
  },
  {
   "cell_type": "code",
   "execution_count": 7,
   "metadata": {},
   "outputs": [
    {
     "data": {
      "image/png": "[encoded data removed]",
      "text/plain": [
       "<Figure size 640x480 with 2 Axes>"
      ]
     },
     "metadata": {},
     "output_type": "display_data"
    }
   ],
   "source": [
    "visualize.heatmap(train_x[3])"
   ]
  },
  {
   "cell_type": "markdown",
   "metadata": {},
   "source": [
    "### Reinforcement Learning\n",
    "\n"
   ]
  }
 ],
 "metadata": {
  "kernelspec": {
   "display_name": "venv",
   "language": "python",
   "name": "python3"
  },
  "language_info": {
   "codemirror_mode": {
    "name": "ipython",
    "version": 3
   },
   "file_extension": ".py",
   "mimetype": "text/x-python",
   "name": "python",
   "nbconvert_exporter": "python",
   "pygments_lexer": "ipython3",
   "version": "3.11.2"
  }
 },
 "nbformat": 4,
 "nbformat_minor": 2
}
