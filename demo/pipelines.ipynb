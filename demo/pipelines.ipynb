{
 "cells": [
  {
   "cell_type": "markdown",
   "metadata": {},
   "source": [
    "# RNA Secondary Structure Prediction Pipelines\n",
    "\n",
    "This notebook predicts RNA secondary structure using pipelines composed of the\n",
    "following units:\n",
    "\n",
    "- Global structure estimator (GSE)\n",
    "- Local structure refiner (LSR)\n",
    "- Monomialization unit (MU)\n",
    "- Binarization unit (BU)\n",
    "- Symmetrization unit (SU)\n",
    "- Constraint unit (CU)\n",
    "- Threshold unit (TU)\n",
    "- Noise removal unit (NRU)\n",
    "- Output unit: SU -> CU -> MU -> BU -> NRU (OU)\n",
    "\n",
    "The last pipeline components are always OU."
   ]
  },
  {
   "cell_type": "code",
   "execution_count": 1,
   "metadata": {},
   "outputs": [],
   "source": [
    "import json\n",
    "from random import sample\n",
    "\n",
    "import numpy as np\n",
    "from torch import optim, nn\n",
    "\n",
    "from diurnal import database, structure, train, transform, visualize, evaluate, segment\n",
    "from diurnal.models import deep\n",
    "from diurnal.models.deep import cnn"
   ]
  },
  {
   "cell_type": "markdown",
   "metadata": {
    "vscode": {
     "languageId": "plaintext"
    }
   },
   "source": [
    "## Data Preparation"
   ]
  },
  {
   "cell_type": "code",
   "execution_count": 2,
   "metadata": {},
   "outputs": [
    {
     "name": "stdout",
     "output_type": "stream",
     "text": [
      "2024-06-10T20:20:50.699610 > INFO Download and install an RNA database.\n",
      "2024-06-10T20:20:50.728999 >     The dataset `archiveII` is already downloaded at `./data/archiveII`.\n",
      "2024-06-10T20:20:50.731696 > INFO Extract the filenames from the directory `./data/archiveII/`.\n"
     ]
    },
    {
     "name": "stderr",
     "output_type": "stream",
     "text": [
      "100%|██████████| 3975/3975 [00:00<00:00, 11413.76it/s]\n"
     ]
    },
    {
     "name": "stdout",
     "output_type": "stream",
     "text": [
      "2024-06-10T20:20:51.114229 >     Detected 3975 files. Kept 2326 files.\n",
      "2024-06-10T20:20:51.117547 >     The file `./data/archiveII_processed_128/names.txt` already contains the names.\n"
     ]
    }
   ],
   "source": [
    "SIZE = 128  # RNA molecule maximum length (longer ones are filtered out).\n",
    "SUBDIVISION_SIZE = 32  # Kernel size of the local structure refiner.\n",
    "\n",
    "database.download(\"./data/\", \"archiveII\")\n",
    "SRC = \"./data/archiveII/\"  # Input directory containing the CT files.\n",
    "DST = f\"./data/archiveII_processed_{SIZE}/\"  # Output directory of the formatted files.\n",
    "names = database.format_filenames(SRC, DST + \"names.txt\", SIZE)\n",
    "train_names, validation_names, test_names = train.split(\n",
    "    names, (0.8, 0.1, 0.1)\n",
    ")"
   ]
  },
  {
   "cell_type": "code",
   "execution_count": 3,
   "metadata": {},
   "outputs": [
    {
     "name": "stdout",
     "output_type": "stream",
     "text": [
      "2024-06-10T20:20:51.157037 > INFO Formatting primary structures into `./data/archiveII_processed_128/validation/primary_potential_pairings_scalar.npy`.\n",
      "2024-06-10T20:20:51.351407 >     The file `./data/archiveII_processed_128/validation/primary_potential_pairings_scalar.npy` already contains the formatted data.\n",
      "2024-06-10T20:20:51.353256 > INFO Formatting primary structures into `./data/archiveII_processed_128/validation/primary_masks.npy`.\n",
      "2024-06-10T20:20:51.403579 >     The file `./data/archiveII_processed_128/validation/primary_masks.npy` already contains the formatted data.\n",
      "2024-06-10T20:20:51.405914 > INFO Formatting primary structures into `./data/archiveII_processed_128/validation/primary_onehot.npy`.\n",
      "2024-06-10T20:20:51.434901 >     The file `./data/archiveII_processed_128/validation/primary_onehot.npy` already contains the formatted data.\n",
      "2024-06-10T20:20:51.434901 > INFO Formatting secondary structures into `./data/archiveII_processed_128/validation/secondary_contact.npy`.\n",
      "2024-06-10T20:20:51.444419 >     The file `./data/archiveII_processed_128/validation/secondary_contact.npy` already contains the formatted data.\n",
      "2024-06-10T20:20:51.469409 > INFO Formatting primary structures into `./data/archiveII_processed_128/test/primary_potential_pairings_scalar.npy`.\n",
      "2024-06-10T20:20:51.491795 >     The file `./data/archiveII_processed_128/test/primary_potential_pairings_scalar.npy` already contains the formatted data.\n",
      "2024-06-10T20:20:51.493300 > INFO Formatting primary structures into `./data/archiveII_processed_128/test/primary_masks.npy`.\n",
      "2024-06-10T20:20:51.544742 >     The file `./data/archiveII_processed_128/test/primary_masks.npy` already contains the formatted data.\n",
      "2024-06-10T20:20:51.546525 > INFO Formatting primary structures into `./data/archiveII_processed_128/test/primary_onehot.npy`.\n",
      "2024-06-10T20:20:51.595869 >     The file `./data/archiveII_processed_128/test/primary_onehot.npy` already contains the formatted data.\n",
      "2024-06-10T20:20:51.601439 > INFO Formatting secondary structures into `./data/archiveII_processed_128/test/secondary_contact.npy`.\n",
      "2024-06-10T20:20:51.610360 >     The file `./data/archiveII_processed_128/test/secondary_contact.npy` already contains the formatted data.\n",
      "2024-06-10T20:20:51.631877 > INFO Formatting primary structures into `./data/archiveII_processed_128/train/primary_potential_pairings_scalar.npy`.\n",
      "2024-06-10T20:20:51.690713 >     The file `./data/archiveII_processed_128/train/primary_potential_pairings_scalar.npy` already contains the formatted data.\n",
      "2024-06-10T20:20:51.694964 > INFO Formatting primary structures into `./data/archiveII_processed_128/train/primary_masks.npy`.\n",
      "2024-06-10T20:20:51.776705 >     The file `./data/archiveII_processed_128/train/primary_masks.npy` already contains the formatted data.\n",
      "2024-06-10T20:20:51.780021 > INFO Formatting primary structures into `./data/archiveII_processed_128/train/primary_onehot.npy`.\n",
      "2024-06-10T20:20:51.828664 >     The file `./data/archiveII_processed_128/train/primary_onehot.npy` already contains the formatted data.\n",
      "2024-06-10T20:20:51.831724 > INFO Formatting secondary structures into `./data/archiveII_processed_128/train/secondary_contact.npy`.\n",
      "2024-06-10T20:20:51.866733 >     The file `./data/archiveII_processed_128/train/secondary_contact.npy` already contains the formatted data.\n"
     ]
    }
   ],
   "source": [
    "def format(dst: str, names: list[str]):\n",
    "    # Primary structures\n",
    "    pp_scalar = lambda x, y: structure.Primary.to_matrix(\n",
    "        x, y, structure.Schemes.IUPAC_PAIRINGS_SCALARS\n",
    "    )\n",
    "    database.format_primary_structure(\n",
    "        names, f\"{dst}primary_potential_pairings_scalar.npy\", SIZE, pp_scalar\n",
    "    )\n",
    "    database.format_primary_structure(\n",
    "        names, f\"{dst}primary_masks.npy\", SIZE, structure.Primary.to_mask\n",
    "    )\n",
    "    database.format_primary_structure(\n",
    "        names, f\"{dst}primary_onehot.npy\",\n",
    "        SIZE, structure.Primary.to_onehot\n",
    "    )\n",
    "    # Secondary structures.\n",
    "    database.format_secondary_structure(\n",
    "        names, f\"{dst}secondary_contact.npy\", SIZE,\n",
    "        structure.Secondary.to_matrix\n",
    "    )\n",
    "\n",
    "format(f\"{DST}validation/\", validation_names)\n",
    "format(f\"{DST}test/\", test_names)\n",
    "format(f\"{DST}train/\", train_names)"
   ]
  },
  {
   "cell_type": "code",
   "execution_count": 55,
   "metadata": {},
   "outputs": [],
   "source": [
    "def format_data() -> tuple:\n",
    "    train_set = {\n",
    "        \"input\": (np.load(f\"{DST}train/primary_potential_pairings_scalar.npy\"), ),\n",
    "        \"output\": np.load(f\"{DST}train/secondary_contact.npy\"),\n",
    "        \"mask\": np.load(f\"{DST}train/primary_masks.npy\"),\n",
    "        \"names\": []\n",
    "    }\n",
    "    validation_set = {\n",
    "        \"input\": (np.load(f\"{DST}validation/primary_potential_pairings_scalar.npy\"), ),\n",
    "        \"output\": np.load(f\"{DST}validation/secondary_contact.npy\"),\n",
    "        \"mask\": np.load(f\"{DST}validation/primary_masks.npy\"),\n",
    "        \"names\": []\n",
    "    }\n",
    "    test_set = {\n",
    "        \"input\": (np.load(f\"{DST}test/primary_potential_pairings_scalar.npy\"), ),\n",
    "        \"output\": np.load(f\"{DST}test/secondary_contact.npy\"),\n",
    "        \"mask\": np.load(f\"{DST}test/primary_masks.npy\"),\n",
    "        \"names\": []\n",
    "    }\n",
    "    return train_set, validation_set, test_set\n",
    "\n",
    "\n",
    "# Create a training set for the LSR.\n",
    "from os import mkdir\n",
    "from tqdm import tqdm\n",
    "\n",
    "\n",
    "def save_global_estimations(model, data, name):\n",
    "    try:\n",
    "        mkdir(\"tmp\")\n",
    "    except:\n",
    "        pass\n",
    "\n",
    "    predictions = []\n",
    "    for i in tqdm(range(len(data[\"input\"][0]))):\n",
    "        p = model.predict([data[\"input\"][0][i]])\n",
    "        predictions.append(p)\n",
    "    np.save(f\"tmp/{name}\", np.array(predictions))\n",
    "\n",
    "\n",
    "FIRST = 16  # Select the most important areas.\n",
    "RANDOM = 8  # Select random areas after the FIRST ones.\n",
    "STRIDE = 16\n",
    "\n",
    "\n",
    "def sample_crops(predictions, data, name, maximum, t = 0) -> list:\n",
    "    predict_crops = []\n",
    "    pp_crops = []  # Potential pairings\n",
    "    contact_crops = []\n",
    "    for index in tqdm(range(len(predictions))):\n",
    "        prediction = predictions[index] * predictions[index].T * data[\"mask\"][index]\n",
    "        all_crops = segment.sample_areas(\n",
    "            prediction, SUBDIVISION_SIZE, stride=STRIDE, threshold=t\n",
    "        )\n",
    "        if len(all_crops) > FIRST:\n",
    "            difference = len(all_crops) - FIRST\n",
    "            sampling = min(difference, RANDOM)\n",
    "            if sampling:\n",
    "                crops = all_crops[:FIRST] + sample(all_crops[FIRST:], sampling)\n",
    "            else:\n",
    "                crops = all_crops[:FIRST]\n",
    "        else:\n",
    "            crops = all_crops\n",
    "\n",
    "        for crop, _ in crops:\n",
    "            predict_crops.append(\n",
    "                predictions[index][crop[0]: crop[0] + 32, crop[1]: crop[1] + 32]\n",
    "            )\n",
    "            pp_crops.append(\n",
    "                data[\"input\"][0][index][crop[0]: crop[0] + 32, crop[1]: crop[1] + 32]\n",
    "            )\n",
    "            contact_crops.append(\n",
    "                data[\"output\"][index][crop[0]: crop[0] + 32, crop[1]: crop[1] + 32]\n",
    "            )\n",
    "\n",
    "        if len(predict_crops) >= maximum:\n",
    "            break\n",
    "\n",
    "    np.save(f\"tmp/{name}_areas_prediction_{SUBDIVISION_SIZE}.npy\", np.array(predict_crops))\n",
    "    np.save(f\"tmp/{name}_areas_pp_{SUBDIVISION_SIZE}.npy\", np.array(pp_crops))\n",
    "    np.save(f\"tmp/{name}_areas_contact_{SUBDIVISION_SIZE}.npy\", np.array(contact_crops))\n",
    "\n",
    "\n",
    "def format_refiner_data() -> tuple:\n",
    "    train_set = {\n",
    "        \"input\": (\n",
    "            np.load(f\"tmp/train_areas_prediction_{SUBDIVISION_SIZE}.npy\"),\n",
    "            np.load(f\"tmp/train_areas_pp_{SUBDIVISION_SIZE}.npy\")\n",
    "        ),\n",
    "        \"output\": np.load(f\"tmp/train_areas_contact_{SUBDIVISION_SIZE}.npy\"),\n",
    "        \"names\": []\n",
    "    }\n",
    "    validation_set = {\n",
    "        \"input\": (\n",
    "            np.load(f\"tmp/validation_areas_prediction_{SUBDIVISION_SIZE}.npy\"),\n",
    "            np.load(f\"tmp/validation_areas_pp_{SUBDIVISION_SIZE}.npy\")\n",
    "        ),\n",
    "        \"output\": np.load(f\"tmp/validation_areas_contact_{SUBDIVISION_SIZE}.npy\"),\n",
    "        \"names\": []\n",
    "    }\n",
    "    test_set = {\n",
    "        \"input\": (\n",
    "            np.load(f\"tmp/test_areas_prediction_{SUBDIVISION_SIZE}.npy\"),\n",
    "            np.load(f\"tmp/test_areas_pp_{SUBDIVISION_SIZE}.npy\")\n",
    "        ),\n",
    "        \"output\": np.load(f\"tmp/test_areas_contact_{SUBDIVISION_SIZE}.npy\"),\n",
    "        \"names\": []\n",
    "    }\n",
    "    return train_set, validation_set, test_set\n",
    "\n",
    "\n",
    "def refine(estimation: np.ndarray, potential_pairings: np.ndarray, model) -> np.ndarray:\n",
    "    result = np.zeros((SIZE, SIZE))\n",
    "    for v_stride in range(int(SIZE / SUBDIVISION_SIZE)):\n",
    "        row = v_stride * SUBDIVISION_SIZE\n",
    "        for h_stride in range(int(SIZE / SUBDIVISION_SIZE)):\n",
    "            column = h_stride * SUBDIVISION_SIZE\n",
    "            sub_estimation = estimation[\n",
    "                row:row + SUBDIVISION_SIZE, column:column + SUBDIVISION_SIZE\n",
    "            ]\n",
    "            sub_input = potential_pairings[\n",
    "                row:row + SUBDIVISION_SIZE, column:column + SUBDIVISION_SIZE\n",
    "            ]\n",
    "            prediction = model.predict([sub_estimation, sub_input])\n",
    "            result[row:row + SUBDIVISION_SIZE, column:column + SUBDIVISION_SIZE] = prediction\n",
    "    return result"
   ]
  },
  {
   "cell_type": "code",
   "execution_count": 33,
   "metadata": {},
   "outputs": [],
   "source": [
    "def MU(matrix: np.ndarray) -> np.ndarray:\n",
    "    return transform.to_monomial_matrix(matrix)\n",
    "\n",
    "\n",
    "def BU(matrix: np.ndarray) -> np.ndarray:\n",
    "    return transform.to_binary_matrix(matrix)\n",
    "\n",
    "\n",
    "def SU(matrix: np.ndarray) -> np.ndarray:\n",
    "    return matrix * matrix.T\n",
    "\n",
    "\n",
    "def CU(matrix: np.ndarray, mask: np.ndarray) -> np.ndarray:\n",
    "    return matrix * mask\n",
    "\n",
    "\n",
    "def TU(matrix: np.ndarray, threshold: float) -> np.ndarray:\n",
    "    return (matrix < threshold) * matrix\n",
    "\n",
    "\n",
    "def NRU(matrix: np.ndarray, threshold: float) -> np.ndarray:\n",
    "    return segment.convolutional_denoise(matrix, threshold=threshold)\n",
    "\n",
    "\n",
    "def OU(matrix: np.ndarray, mask: np.ndarray) -> np.ndarray:\n",
    "    matrix = CU(matrix, mask)\n",
    "    matrix = SU(matrix)\n",
    "    matrix = MU(matrix)\n",
    "    matrix = BU(matrix)\n",
    "    matrix = NRU(matrix, 2)\n",
    "    return matrix"
   ]
  },
  {
   "cell_type": "code",
   "execution_count": 62,
   "metadata": {},
   "outputs": [],
   "source": [
    "def inspect(model, data: dict, i: int) -> None:\n",
    "    t = data[\"output\"][i]\n",
    "    p = model(data[\"input\"][0][i], data[\"mask\"][i])\n",
    "    visualize.compare_pairings(t, p)\n",
    "    print(f\"F1 score: {evaluate.ContactMatrix.f1(t, p)}\")\n",
    "\n",
    "\n",
    "def measure_performances(model, data) -> list[float]:\n",
    "    scores = []\n",
    "    for i in range(len(data[\"output\"])):\n",
    "        t = data[\"output\"][i]\n",
    "        p = model(data[\"input\"][0][i], data[\"mask\"][i])\n",
    "        f = evaluate.ContactMatrix.f1(t, p)\n",
    "        scores.append(f)\n",
    "    print(f\"F1 scores: {scores}\")\n",
    "    print(f\"Arithmetic mean: {np.mean(scores)}\")\n",
    "    return scores"
   ]
  },
  {
   "cell_type": "markdown",
   "metadata": {},
   "source": [
    "## Model 1: Global Estimation (GSE -> OU)"
   ]
  },
  {
   "cell_type": "code",
   "execution_count": 7,
   "metadata": {},
   "outputs": [
    {
     "name": "stdout",
     "output_type": "stream",
     "text": [
      "2024-06-10T20:20:57.316434 > INFO Training the model with 1860 data points.\n",
      "2024-06-10T20:20:57.319942 >     Using 232 data points for validation.\n",
      "2024-06-10T20:20:57.321986 >     Beginning the training.\n",
      "2024-06-10T20:21:01.661226 >   0 / 100 [                                                  ] Loss: 2.10887  Patience: 10\n",
      "2024-06-10T20:21:02.515172 >   1 / 100 [                                                  ] Loss: 2.08082  Patience: 10\n",
      "2024-06-10T20:21:03.445445 >   2 / 100 [=                                                 ] Loss: 2.07120  Patience: 10\n",
      "2024-06-10T20:21:04.362385 >   3 / 100 [=                                                 ] Loss: 2.06611  Patience: 10\n",
      "2024-06-10T20:21:05.329859 >   4 / 100 [==                                                ] Loss: 2.05884  Patience: 10\n",
      "2024-06-10T20:21:06.299145 >   5 / 100 [==                                                ] Loss: 2.05461  Patience: 10\n",
      "2024-06-10T20:21:07.586477 >   6 / 100 [===                                               ] Loss: 2.05068  Patience: 10\n",
      "2024-06-10T20:21:08.615113 >   7 / 100 [===                                               ] Loss: 2.04638  Patience: 10\n",
      "2024-06-10T20:21:09.725892 >   8 / 100 [====                                              ] Loss: 2.04553  Patience: 10\n",
      "2024-06-10T20:21:10.766352 >   9 / 100 [====                                              ] Loss: 2.04269  Patience: 10\n",
      "2024-06-10T20:21:11.734337 >  10 / 100 [=====                                             ] Loss: 2.04428  Patience: 9\n",
      "2024-06-10T20:21:12.712017 >  11 / 100 [=====                                             ] Loss: 2.03992  Patience: 9\n",
      "2024-06-10T20:21:13.579321 >  12 / 100 [======                                            ] Loss: 2.03780  Patience: 9\n",
      "2024-06-10T20:21:14.459929 >  13 / 100 [======                                            ] Loss: 2.03774  Patience: 9\n",
      "2024-06-10T20:21:15.374297 >  14 / 100 [=======                                           ] Loss: 2.03576  Patience: 9\n",
      "2024-06-10T20:21:16.295125 >  15 / 100 [=======                                           ] Loss: 2.03557  Patience: 9\n",
      "2024-06-10T20:21:17.213201 >  16 / 100 [========                                          ] Loss: 2.03461  Patience: 9\n",
      "2024-06-10T20:21:18.112403 >  17 / 100 [========                                          ] Loss: 2.03556  Patience: 8\n",
      "2024-06-10T20:21:19.036114 >  18 / 100 [=========                                         ] Loss: 2.03310  Patience: 8\n",
      "2024-06-10T20:21:19.976351 >  19 / 100 [=========                                         ] Loss: 2.03420  Patience: 7\n",
      "2024-06-10T20:21:20.875399 >  20 / 100 [==========                                        ] Loss: 2.03300  Patience: 7\n",
      "2024-06-10T20:21:21.777985 >  21 / 100 [==========                                        ] Loss: 2.03223  Patience: 7\n",
      "2024-06-10T20:21:22.727142 >  22 / 100 [===========                                       ] Loss: 2.03113  Patience: 7\n",
      "2024-06-10T20:21:23.620919 >  23 / 100 [===========                                       ] Loss: 2.03196  Patience: 6\n",
      "2024-06-10T20:21:24.549228 >  24 / 100 [============                                      ] Loss: 2.03175  Patience: 5\n",
      "2024-06-10T20:21:25.409551 >  25 / 100 [============                                      ] Loss: 2.03090  Patience: 5\n",
      "2024-06-10T20:21:26.347450 >  26 / 100 [=============                                     ] Loss: 2.03039  Patience: 5\n",
      "2024-06-10T20:21:27.243472 >  27 / 100 [=============                                     ] Loss: 2.03029  Patience: 5\n",
      "2024-06-10T20:21:28.146193 >  28 / 100 [==============                                    ] Loss: 2.02949  Patience: 5\n",
      "2024-06-10T20:21:29.041889 >  29 / 100 [==============                                    ] Loss: 2.02887  Patience: 5\n",
      "2024-06-10T20:21:29.930783 >  30 / 100 [===============                                   ] Loss: 2.02876  Patience: 5\n",
      "2024-06-10T20:21:30.850998 >  31 / 100 [===============                                   ] Loss: 2.02881  Patience: 4\n",
      "2024-06-10T20:21:31.764290 >  32 / 100 [================                                  ] Loss: 2.02878  Patience: 3\n",
      "2024-06-10T20:21:32.664242 >  33 / 100 [================                                  ] Loss: 2.02885  Patience: 2\n",
      "2024-06-10T20:21:33.571115 >  34 / 100 [=================                                 ] Loss: 2.02754  Patience: 2\n",
      "2024-06-10T20:21:34.516643 >  35 / 100 [=================                                 ] Loss: 2.02738  Patience: 2\n",
      "2024-06-10T20:21:35.429824 >  36 / 100 [==================                                ] Loss: 2.02724  Patience: 2\n",
      "2024-06-10T20:21:36.312206 >  37 / 100 [==================                                ] Loss: 2.02698  Patience: 2\n",
      "2024-06-10T20:21:37.179085 >  38 / 100 [===================                               ] Loss: 2.02617  Patience: 2\n",
      "2024-06-10T20:21:38.084077 >  39 / 100 [===================                               ] Loss: 2.02580  Patience: 2\n",
      "2024-06-10T20:21:38.989650 >  40 / 100 [====================                              ] Loss: 2.02593  Patience: 1\n",
      "\n"
     ]
    }
   ],
   "source": [
    "train_data, validation_data, test_data = format_data()\n",
    "\n",
    "N_MAX_EPOCHS = 100\n",
    "GSE = deep.NN(\n",
    "    model=cnn.UNet2D(SIZE, 4),\n",
    "    n_epochs=N_MAX_EPOCHS,\n",
    "    optimizer=optim.Adam,\n",
    "    loss_fn=nn.CrossEntropyLoss,\n",
    "    use_half=False,\n",
    "    patience=10,\n",
    "    verbosity=2,\n",
    ")\n",
    "GSE.train(train_data, validation_data)\n",
    "\n",
    "def model_1(pp: np.ndarray, mask: np.ndarray):\n",
    "    x = GSE.predict([pp])\n",
    "    x = OU(x, mask)\n",
    "    return x"
   ]
  },
  {
   "cell_type": "code",
   "execution_count": 8,
   "metadata": {},
   "outputs": [
    {
     "name": "stdout",
     "output_type": "stream",
     "text": [
      "F1 scores: [0.5499999523162842, 0.8059701323509216, 0.8450704216957092, 0.4375, 0.0, 0.5714285373687744, 0.7692307233810425, 0.27027028799057007, 0.6666666865348816, 0.7605633735656738, 0.6829268336296082, 0.2380952388048172, 0.3888888955116272, 0.8918918967247009, 0.8358209729194641, 0.1304347962141037, 0.6865671277046204, 0.3272727429866791, 0.7111111283302307, 0.7419354319572449, 0.7714285850524902, 0.2857142686843872, 0.25, 0.60317462682724, 0.19354839622974396, 0.7323943376541138, 0.7301587462425232, 0.845070481300354, 0.4848484992980957, 0.5079365372657776, 0.12244898080825806, 0.8571428060531616, 0.3255813717842102, 0.6875, 0.7837838530540466, 0.0, 0.39024391770362854, 0.5454545021057129, 0.7419354915618896, 0.3673469126224518, 0.5671641826629639, 0.3921568691730499, 0.59375, 0.65625, 0.7391303777694702, 0.8115941882133484, 0.19230769574642181, 0.23255813121795654, 0.19607843458652496, 0.4166666567325592, 0.30000001192092896, 0.0, 0.8219177722930908, 0.806451678276062, 0.3913043737411499, 0.4838709533214569, 0.9393939971923828, 0.6060605645179749, 0.5396825671195984, 0.7384615540504456, 0.6969696879386902, 0.49122804403305054, 0.514285683631897, 0.8333333134651184, 0.09302325546741486, 0.3333333432674408, 0.7714285850524902, 0.5, 0.24390244483947754, 0.5405405163764954, 0.9295774698257446, 0.767123281955719, 0.38596490025520325, 0.6037736535072327, 0.4285714328289032, 0.8219177722930908, 0.517241358757019, 0.13636364042758942, 0.0, 0.7391303777694702, 0.6486486792564392, 0.07547170668840408, 0.0, 0.11320754885673523, 0.8148147463798523, 0.3636363744735718, 0.22857142984867096, 0.7692307829856873, 0.2745097875595093, 0.277777761220932, 0.0, 0.5714285373687744, 0.20000000298023224, 0.13333334028720856, 0.3636363446712494, 0.4615384340286255, 0.20000000298023224, 0.4150943458080292, 0.888888955116272, 0.6000000238418579, 0.5882353186607361, 0.5538461804389954, 0.4615384340286255, 0.0, 0.7323944568634033, 0.8108108043670654, 0.5151515007019043, 0.6557377576828003, 0.8285714387893677, 0.21739129722118378, 0.23255816102027893, 0.4067797064781189, 0.49275362491607666, 0.4615384638309479, 0.5428571105003357, 0.5666666626930237, 0.5, 0.4126984477043152, 0.34285715222358704, 0.6769230961799622, 0.0, 0.7761193513870239, 0.3265306055545807, 0.7187500596046448, 0.4000000059604645, 0.6060605645179749, 0.90666663646698, 0.6865671277046204, 0.8732393980026245, 0.5625000596046448, 0.8857143521308899, 0.8000000715255737, 0.2769230604171753, 0.4444444477558136, 0.46875, 0.5263157486915588, 0.444444477558136, 0.5454545021057129, 0.4444444477558136, 0.6774193644523621, 0.5517241954803467, 0.3255813717842102, 0.46666666865348816, 0.0, 0.476190447807312, 0.5937499403953552, 0.4615384638309479, 0.20000000298023224, 0.5454545021057129, 0.8125, 0.4999999403953552, 0.5555555820465088, 0.0, 0.3461538255214691, 0.17391306161880493, 0.6666666865348816, 0.6111111044883728, 0.4642857015132904, 0.535714328289032, 0.5806452035903931, 0.59375, 0.4864864945411682, 0.7500000596046448, 0.12765957415103912, 0.8219177722930908, 0.292682945728302, 0.5945945978164673, 0.8000000715255737, 0.8493150472640991, 0.7246376872062683, 0.1860465258359909, 0.4642857313156128, 0.5333333611488342, 0.695652186870575, 0.8055556416511536, 0.5862069129943848, 0.0, 0.7462686896324158, 0.48275861144065857, 0.19230769574642181, 0.5789474248886108, 0.3448276221752167, 0.6764705777168274, 0.5641025900840759, 0.6190476417541504, 0.615384578704834, 0.5294117331504822, 0.7605633735656738, 0.4761904776096344, 0.6984127163887024, 0.7419354319572449, 0.5, 0.4838709533214569, 0.4923076629638672, 0.0, 0.6222221851348877, 0.3529411852359772, 0.15789476037025452, 0.514285683631897, 0.4705882668495178, 0.0, 0.3333333432674408, 0.4923076629638672, 0.2857142984867096, 0.5490195751190186, 0.23529411852359772, 0.27272728085517883, 0.8709677457809448, 0.5517241358757019, 0.1538461595773697, 0.20408165454864502, 0.8235293626785278, 0.5714285969734192, 0.0, 0.5846154093742371, 0.8823529481887817, 0.7428570985794067, 0.7887324094772339, 0.5625, 0.5901639461517334, 0.8055556416511536, 0.8732393980026245, 0.9705882668495178, 0.5555555820465088, 0.2295082062482834, 0.7164179682731628, 0.32258063554763794, 0.8450704216957092, 0.7714285850524902, 0.5106382966041565, 0.23333333432674408, 0.7777777910232544]\n",
      "Arithmetic mean: 0.5085625617989692\n"
     ]
    }
   ],
   "source": [
    "model_1_results = measure_performances(model_1, test_data)"
   ]
  },
  {
   "cell_type": "markdown",
   "metadata": {},
   "source": [
    "## Model 2: Refined Predictions (GSE -> LSR -> OU)"
   ]
  },
  {
   "cell_type": "code",
   "execution_count": 69,
   "metadata": {},
   "outputs": [
    {
     "name": "stderr",
     "output_type": "stream",
     "text": [
      "100%|██████████| 1860/1860 [00:04<00:00, 454.32it/s]\n",
      "100%|██████████| 232/232 [00:00<00:00, 462.76it/s]\n",
      "100%|██████████| 232/232 [00:00<00:00, 327.54it/s]\n"
     ]
    },
    {
     "name": "stdout",
     "output_type": "stream",
     "text": [
      "Sample subregions from the predictions and input data.\n"
     ]
    },
    {
     "name": "stderr",
     "output_type": "stream",
     "text": [
      " 68%|██████▊   | 1264/1860 [00:00<00:00, 2882.73it/s]\n",
      " 91%|█████████ | 210/232 [00:00<00:00, 3427.55it/s]\n",
      " 91%|█████████ | 210/232 [00:00<00:00, 2404.94it/s]\n"
     ]
    }
   ],
   "source": [
    "save_global_estimations(GSE, train_data, \"train_predictions.npy\")\n",
    "save_global_estimations(GSE, validation_data, \"validation_predictions.npy\")\n",
    "save_global_estimations(GSE, test_data, \"test_predictions.npy\")\n",
    "\n",
    "print(\"Sample subregions from the predictions and input data.\")\n",
    "sample_crops(np.load(\"tmp/train_predictions.npy\"), train_data, \"train\", 30_000)\n",
    "sample_crops(np.load(\"tmp/validation_predictions.npy\"), validation_data, \"validation\", 5_000)\n",
    "sample_crops(np.load(\"tmp/test_predictions.npy\"), test_data, \"test\", 5_000)"
   ]
  },
  {
   "cell_type": "code",
   "execution_count": 70,
   "metadata": {},
   "outputs": [
    {
     "name": "stdout",
     "output_type": "stream",
     "text": [
      "2024-06-10T21:27:37.491510 > INFO Training the model with 30001 data points.\n",
      "2024-06-10T21:27:37.494352 >     Using 5022 data points for validation.\n",
      "2024-06-10T21:27:37.495950 >     Beginning the training.\n",
      "2024-06-10T21:27:39.056822 >   0 / 500 [                                                  ] Loss: 0.69737  Patience: 10\n",
      "2024-06-10T21:27:40.147140 >   1 / 500 [                                                  ] Loss: 0.65701  Patience: 10\n",
      "2024-06-10T21:27:41.230840 >   2 / 500 [                                                  ] Loss: 0.64766  Patience: 10\n",
      "2024-06-10T21:27:42.336840 >   3 / 500 [                                                  ] Loss: 0.64315  Patience: 10\n",
      "2024-06-10T21:27:43.422916 >   4 / 500 [                                                  ] Loss: 0.63924  Patience: 10\n",
      "2024-06-10T21:27:44.672627 >   5 / 500 [                                                  ] Loss: 0.63635  Patience: 10\n",
      "2024-06-10T21:27:45.897975 >   6 / 500 [                                                  ] Loss: 0.63389  Patience: 10\n",
      "2024-06-10T21:27:46.981756 >   7 / 500 [                                                  ] Loss: 0.63166  Patience: 10\n",
      "2024-06-10T21:27:48.048464 >   8 / 500 [                                                  ] Loss: 0.62971  Patience: 10\n",
      "2024-06-10T21:27:49.104988 >   9 / 500 [                                                  ] Loss: 0.62784  Patience: 10\n",
      "2024-06-10T21:27:50.243005 >  10 / 500 [=                                                 ] Loss: 0.62611  Patience: 10\n",
      "2024-06-10T21:27:51.536161 >  11 / 500 [=                                                 ] Loss: 0.62461  Patience: 10\n",
      "2024-06-10T21:27:52.675105 >  12 / 500 [=                                                 ] Loss: 0.62344  Patience: 10\n",
      "2024-06-10T21:27:53.879912 >  13 / 500 [=                                                 ] Loss: 0.62207  Patience: 10\n",
      "2024-06-10T21:27:55.029124 >  14 / 500 [=                                                 ] Loss: 0.62101  Patience: 10\n",
      "2024-06-10T21:27:56.212143 >  15 / 500 [=                                                 ] Loss: 0.62010  Patience: 10\n",
      "2024-06-10T21:27:57.422431 >  16 / 500 [=                                                 ] Loss: 0.61913  Patience: 10\n",
      "2024-06-10T21:27:58.457502 >  17 / 500 [=                                                 ] Loss: 0.61852  Patience: 10\n",
      "2024-06-10T21:27:59.465655 >  18 / 500 [=                                                 ] Loss: 0.61782  Patience: 10\n",
      "2024-06-10T21:28:00.582299 >  19 / 500 [=                                                 ] Loss: 0.61740  Patience: 10\n",
      "2024-06-10T21:28:01.791571 >  20 / 500 [==                                                ] Loss: 0.61695  Patience: 10\n",
      "2024-06-10T21:28:02.869369 >  21 / 500 [==                                                ] Loss: 0.61598  Patience: 10\n",
      "2024-06-10T21:28:04.171228 >  22 / 500 [==                                                ] Loss: 0.61560  Patience: 10\n",
      "2024-06-10T21:28:05.286111 >  23 / 500 [==                                                ] Loss: 0.61509  Patience: 10\n",
      "2024-06-10T21:28:06.488436 >  24 / 500 [==                                                ] Loss: 0.61473  Patience: 10\n",
      "2024-06-10T21:28:08.094559 >  25 / 500 [==                                                ] Loss: 0.61447  Patience: 10\n",
      "2024-06-10T21:28:09.474542 >  26 / 500 [==                                                ] Loss: 0.61397  Patience: 10\n",
      "2024-06-10T21:28:10.644233 >  27 / 500 [==                                                ] Loss: 0.61338  Patience: 10\n",
      "2024-06-10T21:28:11.793959 >  28 / 500 [==                                                ] Loss: 0.61319  Patience: 10\n",
      "2024-06-10T21:28:13.091927 >  29 / 500 [==                                                ] Loss: 0.61307  Patience: 10\n",
      "2024-06-10T21:28:14.295266 >  30 / 500 [===                                               ] Loss: 0.61279  Patience: 10\n",
      "2024-06-10T21:28:15.498390 >  31 / 500 [===                                               ] Loss: 0.61240  Patience: 10\n",
      "2024-06-10T21:28:16.797002 >  32 / 500 [===                                               ] Loss: 0.61224  Patience: 10\n",
      "2024-06-10T21:28:18.307313 >  33 / 500 [===                                               ] Loss: 0.61196  Patience: 10\n",
      "2024-06-10T21:28:19.718111 >  34 / 500 [===                                               ] Loss: 0.61177  Patience: 10\n",
      "2024-06-10T21:28:21.033320 >  35 / 500 [===                                               ] Loss: 0.61145  Patience: 10\n",
      "2024-06-10T21:28:22.221004 >  36 / 500 [===                                               ] Loss: 0.61146  Patience: 9\n",
      "2024-06-10T21:28:23.397148 >  37 / 500 [===                                               ] Loss: 0.61108  Patience: 9\n",
      "2024-06-10T21:28:24.728563 >  38 / 500 [===                                               ] Loss: 0.61071  Patience: 9\n",
      "2024-06-10T21:28:25.884988 >  39 / 500 [===                                               ] Loss: 0.61060  Patience: 9\n",
      "2024-06-10T21:28:26.946890 >  40 / 500 [====                                              ] Loss: 0.61039  Patience: 9\n",
      "2024-06-10T21:28:28.037962 >  41 / 500 [====                                              ] Loss: 0.61041  Patience: 8\n",
      "2024-06-10T21:28:29.105983 >  42 / 500 [====                                              ] Loss: 0.61017  Patience: 8\n",
      "2024-06-10T21:28:30.159836 >  43 / 500 [====                                              ] Loss: 0.61003  Patience: 8\n",
      "2024-06-10T21:28:31.270978 >  44 / 500 [====                                              ] Loss: 0.60956  Patience: 8\n",
      "2024-06-10T21:28:32.290910 >  45 / 500 [====                                              ] Loss: 0.60951  Patience: 8\n",
      "2024-06-10T21:28:33.301002 >  46 / 500 [====                                              ] Loss: 0.60921  Patience: 8\n",
      "2024-06-10T21:28:34.315428 >  47 / 500 [====                                              ] Loss: 0.60906  Patience: 8\n",
      "2024-06-10T21:28:35.320757 >  48 / 500 [====                                              ] Loss: 0.60914  Patience: 7\n",
      "2024-06-10T21:28:36.327701 >  49 / 500 [====                                              ] Loss: 0.60876  Patience: 7\n",
      "2024-06-10T21:28:37.342637 >  50 / 500 [=====                                             ] Loss: 0.60897  Patience: 6\n",
      "2024-06-10T21:28:38.425399 >  51 / 500 [=====                                             ] Loss: 0.60880  Patience: 5\n",
      "2024-06-10T21:28:39.444263 >  52 / 500 [=====                                             ] Loss: 0.60886  Patience: 4\n",
      "2024-06-10T21:28:40.466996 >  53 / 500 [=====                                             ] Loss: 0.60849  Patience: 4\n",
      "2024-06-10T21:28:41.465211 >  54 / 500 [=====                                             ] Loss: 0.60832  Patience: 4\n",
      "2024-06-10T21:28:42.505275 >  55 / 500 [=====                                             ] Loss: 0.60818  Patience: 4\n",
      "2024-06-10T21:28:43.514208 >  56 / 500 [=====                                             ] Loss: 0.60813  Patience: 4\n",
      "2024-06-10T21:28:44.645330 >  57 / 500 [=====                                             ] Loss: 0.60784  Patience: 4\n",
      "2024-06-10T21:28:45.685273 >  58 / 500 [=====                                             ] Loss: 0.60767  Patience: 4\n",
      "2024-06-10T21:28:46.695853 >  59 / 500 [=====                                             ] Loss: 0.60820  Patience: 3\n",
      "2024-06-10T21:28:47.723623 >  60 / 500 [======                                            ] Loss: 0.60758  Patience: 3\n",
      "2024-06-10T21:28:48.723538 >  61 / 500 [======                                            ] Loss: 0.60751  Patience: 3\n",
      "2024-06-10T21:28:49.736411 >  62 / 500 [======                                            ] Loss: 0.60757  Patience: 2\n",
      "2024-06-10T21:28:50.734030 >  63 / 500 [======                                            ] Loss: 0.60744  Patience: 2\n",
      "2024-06-10T21:28:51.770264 >  64 / 500 [======                                            ] Loss: 0.60728  Patience: 2\n",
      "2024-06-10T21:28:52.803398 >  65 / 500 [======                                            ] Loss: 0.60722  Patience: 2\n",
      "2024-06-10T21:28:53.827731 >  66 / 500 [======                                            ] Loss: 0.60742  Patience: 1\n",
      "\n"
     ]
    }
   ],
   "source": [
    "refiner_train_data, refiner_validation_data, refiner_test_data = format_refiner_data()\n",
    "\n",
    "N_MAX_EPOCHS =500\n",
    "LSR = deep.NN(\n",
    "    model=cnn.UNet2DRefiner(SUBDIVISION_SIZE),\n",
    "    n_epochs=N_MAX_EPOCHS,\n",
    "    optimizer=optim.Adam,\n",
    "    loss_fn=nn.CrossEntropyLoss,\n",
    "    loss_fn_args=None,\n",
    "    use_half=False,\n",
    "    patience=10,\n",
    "    verbosity=2,\n",
    "    batch=256\n",
    ")\n",
    "LSR.train(refiner_train_data, refiner_validation_data)"
   ]
  },
  {
   "cell_type": "code",
   "execution_count": 71,
   "metadata": {},
   "outputs": [
    {
     "name": "stdout",
     "output_type": "stream",
     "text": [
      "F1 scores: [0.3137255012989044, 0.472222238779068, 0.5217391848564148, 0.4117647111415863, 0.2962963283061981, 0.31111112236976624, 0.4888888895511627, 0.42553192377090454, 0.3999999761581421, 0.5070423483848572, 0.5, 0.24390242993831635, 0.30434781312942505, 0.6052631139755249, 0.5142857432365417, 0.1818181872367859, 0.6571428775787354, 0.23188406229019165, 0.40816324949264526, 0.5151515007019043, 0.4637681245803833, 0.0833333358168602, 0.17543859779834747, 0.3529411554336548, 0.1515151560306549, 0.4266666769981384, 0.4057970941066742, 0.4285714328289032, 0.25, 0.2432432472705841, 0.22580644488334656, 0.5070422291755676, 0.3265306353569031, 0.37142857909202576, 0.5454545617103577, 0.08000000566244125, 0.47058823704719543, 0.40000003576278687, 0.5882353186607361, 0.28125, 0.5641025900840759, 0.1846153885126114, 0.28169018030166626, 0.4637681245803833, 0.6274510025978088, 0.4927535951137543, 0.0923076942563057, 0.238095223903656, 0.3571428656578064, 0.3606557548046112, 0.39393937587738037, 0.0, 0.48571428656578064, 0.529411792755127, 0.30188679695129395, 0.41791048645973206, 0.6493505835533142, 0.28125, 0.5277777910232544, 0.5479452013969421, 0.5507246255874634, 0.3692307770252228, 0.6956521272659302, 0.4705882668495178, 0.20338983833789825, 0.47826087474823, 0.6753246784210205, 0.4137931168079376, 0.2083333432674408, 0.3396226465702057, 0.7594937086105347, 0.7272727489471436, 0.3692307770252228, 0.39436620473861694, 0.42424243688583374, 0.6913580298423767, 0.3174603283405304, 0.23255814611911774, 0.0, 0.6274510025978088, 0.4545454680919647, 0.13698630034923553, 0.0, 0.19672131538391113, 0.5600000023841858, 0.04444444552063942, 0.07999999821186066, 0.6578947305679321, 0.27272728085517883, 0.2545454800128937, 0.0, 0.28125, 0.37142860889434814, 0.13333334028720856, 0.09836065769195557, 0.5454545617103577, 0.10000000894069672, 0.19672133028507233, 0.6904761791229248, 0.5531914830207825, 0.36923080682754517, 0.4571428596973419, 0.3673469126224518, 0.0952381044626236, 0.2857142984867096, 0.7073171138763428, 0.4516128897666931, 0.37681159377098083, 0.4637681245803833, 0.17543859779834747, 0.21052633225917816, 0.27397260069847107, 0.5066666603088379, 0.465753436088562, 0.4935064911842346, 0.32876715064048767, 0.29411762952804565, 0.5974026322364807, 0.35999995470046997, 0.6060606241226196, 0.06557377427816391, 0.375, 0.21212120354175568, 0.4571428596973419, 0.24242424964904785, 0.3548387289047241, 0.7692307233810425, 0.48571428656578064, 0.64000004529953, 0.43478262424468994, 0.5, 0.5974026322364807, 0.1944444328546524, 0.2352941334247589, 0.2608695924282074, 0.39393937587738037, 0.28985506296157837, 0.2985074818134308, 0.3492063581943512, 0.5217391848564148, 0.40625, 0.3265306353569031, 0.3636363744735718, 0.0, 0.2702702581882477, 0.3492063581943512, 0.3673469126224518, 0.2142857313156128, 0.5499999523162842, 0.4000000059604645, 0.4482758641242981, 0.523809552192688, 0.0727272778749466, 0.375, 0.11428571492433548, 0.5230769515037537, 0.43478259444236755, 0.4000000059604645, 0.5454545617103577, 0.5588235855102539, 0.36619722843170166, 0.47058823704719543, 0.44897961616516113, 0.13114754855632782, 0.736842155456543, 0.3913043439388275, 0.42307692766189575, 0.7105262875556946, 0.607594907283783, 0.591549277305603, 0.14035087823867798, 0.34375, 0.5957447290420532, 0.48000001907348633, 0.37837839126586914, 0.20779220759868622, 0.0, 0.6753246188163757, 0.11940298974514008, 0.12121212482452393, 0.3999999761581421, 0.444444477558136, 0.5454545617103577, 0.3076923191547394, 0.5, 0.25, 0.2608695924282074, 0.7088607549667358, 0.44897961616516113, 0.42424240708351135, 0.5, 0.15000000596046448, 0.39436620473861694, 0.3589743971824646, 0.08510638028383255, 0.4166666567325592, 0.26865673065185547, 0.09090909361839294, 0.6956521272659302, 0.4285714328289032, 0.0, 0.20000001788139343, 0.3636363744735718, 0.29787230491638184, 0.60317462682724, 0.0555555559694767, 0.2142857164144516, 0.4776119589805603, 0.3333333432674408, 0.0, 0.21212121844291687, 0.4864864945411682, 0.5373134016990662, 0.0, 0.2857142686843872, 0.6756756901741028, 0.6111111640930176, 0.529411792755127, 0.42553192377090454, 0.28985509276390076, 0.7222221493721008, 0.7594937086105347, 0.7027026414871216, 0.35820892453193665, 0.053333330899477005, 0.4705882668495178, 0.22727273404598236, 0.6133332848548889, 0.3947368264198303, 0.3103448152542114, 0.1791044920682907, 0.5714285373687744]\n",
      "Arithmetic mean: 0.37866814420076794\n"
     ]
    }
   ],
   "source": [
    "def model_2(pp: np.ndarray, mask: np.ndarray):\n",
    "    x = GSE.predict([pp])\n",
    "    x *= refine(x, pp, LSR)\n",
    "    x = OU(x, mask)\n",
    "    return x\n",
    "# 0.231\n",
    "\n",
    "model_2_results = measure_performances(model_2, test_data)"
   ]
  },
  {
   "cell_type": "markdown",
   "metadata": {},
   "source": [
    "## Model 3: Refined Predictions (GSE -> [CU -> NRU] -> LSR -> OU)"
   ]
  },
  {
   "cell_type": "code",
   "execution_count": 43,
   "metadata": {},
   "outputs": [
    {
     "name": "stderr",
     "output_type": "stream",
     "text": [
      "100%|██████████| 1860/1860 [00:05<00:00, 336.13it/s]\n",
      "100%|██████████| 232/232 [00:00<00:00, 281.01it/s]\n",
      "100%|██████████| 232/232 [00:00<00:00, 335.64it/s]\n"
     ]
    },
    {
     "name": "stdout",
     "output_type": "stream",
     "text": [
      "Sample subregions from the predictions and input data.\n"
     ]
    },
    {
     "name": "stderr",
     "output_type": "stream",
     "text": [
      " 68%|██████▊   | 1269/1860 [00:00<00:00, 3399.43it/s]\n",
      " 91%|█████████ | 210/232 [00:00<00:00, 3331.23it/s]\n",
      " 91%|█████████▏| 212/232 [00:00<00:00, 3461.95it/s]\n"
     ]
    }
   ],
   "source": [
    "class Estimator:\n",
    "    def predict(pp) -> np.ndarray:\n",
    "        estimation = GSE.predict(pp)\n",
    "        mask = pp[0].copy()\n",
    "        mask[mask > 0] = 1\n",
    "        estimation *= mask\n",
    "        return NRU(estimation, 2)\n",
    "\n",
    "\n",
    "save_global_estimations(Estimator, train_data, \"train_predictions.npy\")\n",
    "save_global_estimations(Estimator, validation_data, \"validation_predictions.npy\")\n",
    "save_global_estimations(Estimator, test_data, \"test_predictions.npy\")\n",
    "\n",
    "print(\"Sample subregions from the predictions and input data.\")\n",
    "sample_crops(np.load(\"tmp/train_predictions.npy\"), train_data, \"train\", 30_000)\n",
    "sample_crops(np.load(\"tmp/validation_predictions.npy\"), validation_data, \"validation\", 5_000)\n",
    "sample_crops(np.load(\"tmp/test_predictions.npy\"), test_data, \"test\", 5_000)"
   ]
  },
  {
   "cell_type": "code",
   "execution_count": 44,
   "metadata": {},
   "outputs": [
    {
     "name": "stdout",
     "output_type": "stream",
     "text": [
      "2024-06-10T20:56:39.713781 > INFO Training the model with 30022 data points.\n",
      "2024-06-10T20:56:39.714110 >     Using 5004 data points for validation.\n",
      "2024-06-10T20:56:39.716347 >     Beginning the training.\n",
      "2024-06-10T20:56:41.375109 >   0 / 500 [                                                  ] Loss: 0.51955  Patience: 10\n",
      "2024-06-10T20:56:42.461277 >   1 / 500 [                                                  ] Loss: 0.51816  Patience: 10\n",
      "2024-06-10T20:56:43.601265 >   2 / 500 [                                                  ] Loss: 0.51698  Patience: 10\n",
      "2024-06-10T20:56:44.827023 >   3 / 500 [                                                  ] Loss: 0.51585  Patience: 10\n",
      "2024-06-10T20:56:45.991174 >   4 / 500 [                                                  ] Loss: 0.51440  Patience: 10\n",
      "2024-06-10T20:56:47.240262 >   5 / 500 [                                                  ] Loss: 0.51262  Patience: 10\n",
      "2024-06-10T20:56:48.350231 >   6 / 500 [                                                  ] Loss: 0.51059  Patience: 10\n",
      "2024-06-10T20:56:49.431498 >   7 / 500 [                                                  ] Loss: 0.50887  Patience: 10\n",
      "2024-06-10T20:56:50.578294 >   8 / 500 [                                                  ] Loss: 0.50704  Patience: 10\n",
      "2024-06-10T20:56:51.602944 >   9 / 500 [                                                  ] Loss: 0.50549  Patience: 10\n",
      "2024-06-10T20:56:52.745861 >  10 / 500 [=                                                 ] Loss: 0.50411  Patience: 10\n",
      "2024-06-10T20:56:53.781713 >  11 / 500 [=                                                 ] Loss: 0.50281  Patience: 10\n",
      "2024-06-10T20:56:54.811094 >  12 / 500 [=                                                 ] Loss: 0.50144  Patience: 10\n",
      "2024-06-10T20:56:55.863883 >  13 / 500 [=                                                 ] Loss: 0.50007  Patience: 10\n",
      "2024-06-10T20:56:56.943914 >  14 / 500 [=                                                 ] Loss: 0.49887  Patience: 10\n",
      "2024-06-10T20:56:58.093416 >  15 / 500 [=                                                 ] Loss: 0.49778  Patience: 10\n",
      "2024-06-10T20:56:59.161608 >  16 / 500 [=                                                 ] Loss: 0.49693  Patience: 10\n",
      "2024-06-10T20:57:00.326826 >  17 / 500 [=                                                 ] Loss: 0.49614  Patience: 10\n",
      "2024-06-10T20:57:01.374087 >  18 / 500 [=                                                 ] Loss: 0.49547  Patience: 10\n",
      "2024-06-10T20:57:02.350876 >  19 / 500 [=                                                 ] Loss: 0.49490  Patience: 10\n",
      "2024-06-10T20:57:03.316704 >  20 / 500 [==                                                ] Loss: 0.49443  Patience: 10\n",
      "2024-06-10T20:57:04.311230 >  21 / 500 [==                                                ] Loss: 0.49401  Patience: 10\n",
      "2024-06-10T20:57:05.527078 >  22 / 500 [==                                                ] Loss: 0.49364  Patience: 10\n",
      "2024-06-10T20:57:06.752572 >  23 / 500 [==                                                ] Loss: 0.49328  Patience: 10\n",
      "2024-06-10T20:57:08.021231 >  24 / 500 [==                                                ] Loss: 0.49292  Patience: 10\n",
      "2024-06-10T20:57:09.470413 >  25 / 500 [==                                                ] Loss: 0.49247  Patience: 10\n",
      "2024-06-10T20:57:10.711279 >  26 / 500 [==                                                ] Loss: 0.49208  Patience: 10\n",
      "2024-06-10T20:57:11.737795 >  27 / 500 [==                                                ] Loss: 0.49174  Patience: 10\n",
      "2024-06-10T20:57:12.955881 >  28 / 500 [==                                                ] Loss: 0.49146  Patience: 10\n",
      "2024-06-10T20:57:14.144285 >  29 / 500 [==                                                ] Loss: 0.49117  Patience: 10\n",
      "2024-06-10T20:57:15.264318 >  30 / 500 [===                                               ] Loss: 0.49096  Patience: 10\n",
      "2024-06-10T20:57:16.398068 >  31 / 500 [===                                               ] Loss: 0.49072  Patience: 10\n",
      "2024-06-10T20:57:17.482224 >  32 / 500 [===                                               ] Loss: 0.49052  Patience: 10\n",
      "2024-06-10T20:57:18.668614 >  33 / 500 [===                                               ] Loss: 0.49036  Patience: 10\n",
      "2024-06-10T20:57:19.851779 >  34 / 500 [===                                               ] Loss: 0.49011  Patience: 10\n",
      "2024-06-10T20:57:20.953147 >  35 / 500 [===                                               ] Loss: 0.48993  Patience: 10\n",
      "2024-06-10T20:57:21.995297 >  36 / 500 [===                                               ] Loss: 0.48990  Patience: 10\n",
      "2024-06-10T20:57:23.061283 >  37 / 500 [===                                               ] Loss: 0.48975  Patience: 10\n",
      "2024-06-10T20:57:24.138380 >  38 / 500 [===                                               ] Loss: 0.48969  Patience: 10\n",
      "2024-06-10T20:57:25.154744 >  39 / 500 [===                                               ] Loss: 0.48952  Patience: 10\n",
      "2024-06-10T20:57:26.301083 >  40 / 500 [====                                              ] Loss: 0.48939  Patience: 10\n",
      "2024-06-10T20:57:27.420885 >  41 / 500 [====                                              ] Loss: 0.48922  Patience: 10\n",
      "2024-06-10T20:57:28.613689 >  42 / 500 [====                                              ] Loss: 0.48905  Patience: 10\n",
      "2024-06-10T20:57:29.764412 >  43 / 500 [====                                              ] Loss: 0.48893  Patience: 10\n",
      "2024-06-10T20:57:30.896830 >  44 / 500 [====                                              ] Loss: 0.48878  Patience: 10\n",
      "2024-06-10T20:57:31.953460 >  45 / 500 [====                                              ] Loss: 0.48858  Patience: 10\n",
      "2024-06-10T20:57:32.964354 >  46 / 500 [====                                              ] Loss: 0.48847  Patience: 10\n",
      "2024-06-10T20:57:33.993994 >  47 / 500 [====                                              ] Loss: 0.48828  Patience: 10\n",
      "2024-06-10T20:57:35.104360 >  48 / 500 [====                                              ] Loss: 0.48818  Patience: 10\n",
      "2024-06-10T20:57:36.136481 >  49 / 500 [====                                              ] Loss: 0.48809  Patience: 10\n",
      "2024-06-10T20:57:37.151422 >  50 / 500 [=====                                             ] Loss: 0.48799  Patience: 10\n",
      "2024-06-10T20:57:38.176525 >  51 / 500 [=====                                             ] Loss: 0.48793  Patience: 10\n",
      "2024-06-10T20:57:39.183624 >  52 / 500 [=====                                             ] Loss: 0.48785  Patience: 10\n",
      "2024-06-10T20:57:40.153889 >  53 / 500 [=====                                             ] Loss: 0.48782  Patience: 10\n",
      "2024-06-10T20:57:41.163169 >  54 / 500 [=====                                             ] Loss: 0.48775  Patience: 10\n",
      "2024-06-10T20:57:42.130884 >  55 / 500 [=====                                             ] Loss: 0.48772  Patience: 10\n",
      "2024-06-10T20:57:43.111055 >  56 / 500 [=====                                             ] Loss: 0.48766  Patience: 10\n",
      "2024-06-10T20:57:44.078304 >  57 / 500 [=====                                             ] Loss: 0.48760  Patience: 10\n",
      "2024-06-10T20:57:45.066788 >  58 / 500 [=====                                             ] Loss: 0.48748  Patience: 10\n",
      "2024-06-10T20:57:46.016679 >  59 / 500 [=====                                             ] Loss: 0.48740  Patience: 10\n",
      "2024-06-10T20:57:46.958629 >  60 / 500 [======                                            ] Loss: 0.48732  Patience: 10\n",
      "2024-06-10T20:57:47.918499 >  61 / 500 [======                                            ] Loss: 0.48723  Patience: 10\n",
      "2024-06-10T20:57:48.905090 >  62 / 500 [======                                            ] Loss: 0.48716  Patience: 10\n",
      "2024-06-10T20:57:49.867055 >  63 / 500 [======                                            ] Loss: 0.48711  Patience: 10\n",
      "2024-06-10T20:57:50.837834 >  64 / 500 [======                                            ] Loss: 0.48705  Patience: 10\n",
      "2024-06-10T20:57:51.818709 >  65 / 500 [======                                            ] Loss: 0.48703  Patience: 10\n",
      "2024-06-10T20:57:52.771288 >  66 / 500 [======                                            ] Loss: 0.48702  Patience: 10\n",
      "2024-06-10T20:57:53.748987 >  67 / 500 [======                                            ] Loss: 0.48687  Patience: 10\n",
      "2024-06-10T20:57:54.716255 >  68 / 500 [======                                            ] Loss: 0.48677  Patience: 10\n",
      "2024-06-10T20:57:55.707294 >  69 / 500 [======                                            ] Loss: 0.48670  Patience: 10\n",
      "2024-06-10T20:57:56.674350 >  70 / 500 [=======                                           ] Loss: 0.48670  Patience: 10\n",
      "2024-06-10T20:57:57.740917 >  71 / 500 [=======                                           ] Loss: 0.48669  Patience: 10\n",
      "2024-06-10T20:57:58.714616 >  72 / 500 [=======                                           ] Loss: 0.48664  Patience: 10\n",
      "2024-06-10T20:57:59.690090 >  73 / 500 [=======                                           ] Loss: 0.48663  Patience: 10\n",
      "2024-06-10T20:58:00.684731 >  74 / 500 [=======                                           ] Loss: 0.48656  Patience: 10\n",
      "2024-06-10T20:58:01.665745 >  75 / 500 [=======                                           ] Loss: 0.48653  Patience: 10\n",
      "2024-06-10T20:58:02.658928 >  76 / 500 [=======                                           ] Loss: 0.48648  Patience: 10\n",
      "2024-06-10T20:58:03.630103 >  77 / 500 [=======                                           ] Loss: 0.48645  Patience: 10\n",
      "2024-06-10T20:58:04.612109 >  78 / 500 [=======                                           ] Loss: 0.48643  Patience: 10\n",
      "2024-06-10T20:58:05.591539 >  79 / 500 [=======                                           ] Loss: 0.48642  Patience: 10\n",
      "2024-06-10T20:58:06.561614 >  80 / 500 [========                                          ] Loss: 0.48632  Patience: 10\n",
      "2024-06-10T20:58:07.555943 >  81 / 500 [========                                          ] Loss: 0.48639  Patience: 9\n",
      "2024-06-10T20:58:08.531260 >  82 / 500 [========                                          ] Loss: 0.48632  Patience: 8\n",
      "2024-06-10T20:58:09.516846 >  83 / 500 [========                                          ] Loss: 0.48618  Patience: 8\n",
      "2024-06-10T20:58:10.505948 >  84 / 500 [========                                          ] Loss: 0.48606  Patience: 8\n",
      "2024-06-10T20:58:11.501091 >  85 / 500 [========                                          ] Loss: 0.48600  Patience: 8\n",
      "2024-06-10T20:58:12.494344 >  86 / 500 [========                                          ] Loss: 0.48588  Patience: 8\n",
      "2024-06-10T20:58:13.505995 >  87 / 500 [========                                          ] Loss: 0.48582  Patience: 8\n",
      "2024-06-10T20:58:14.494455 >  88 / 500 [========                                          ] Loss: 0.48567  Patience: 8\n",
      "2024-06-10T20:58:15.465702 >  89 / 500 [========                                          ] Loss: 0.48563  Patience: 8\n",
      "2024-06-10T20:58:16.444519 >  90 / 500 [=========                                         ] Loss: 0.48558  Patience: 8\n",
      "2024-06-10T20:58:17.424562 >  91 / 500 [=========                                         ] Loss: 0.48549  Patience: 8\n",
      "2024-06-10T20:58:18.430050 >  92 / 500 [=========                                         ] Loss: 0.48545  Patience: 8\n",
      "2024-06-10T20:58:19.421107 >  93 / 500 [=========                                         ] Loss: 0.48544  Patience: 8\n",
      "2024-06-10T20:58:20.471211 >  94 / 500 [=========                                         ] Loss: 0.48543  Patience: 8\n",
      "2024-06-10T20:58:21.448543 >  95 / 500 [=========                                         ] Loss: 0.48541  Patience: 8\n",
      "2024-06-10T20:58:22.426011 >  96 / 500 [=========                                         ] Loss: 0.48539  Patience: 8\n",
      "2024-06-10T20:58:23.410809 >  97 / 500 [=========                                         ] Loss: 0.48534  Patience: 8\n",
      "2024-06-10T20:58:24.397949 >  98 / 500 [=========                                         ] Loss: 0.48525  Patience: 8\n",
      "2024-06-10T20:58:25.382124 >  99 / 500 [=========                                         ] Loss: 0.48521  Patience: 8\n",
      "2024-06-10T20:58:26.370095 > 100 / 500 [==========                                        ] Loss: 0.48521  Patience: 8\n",
      "2024-06-10T20:58:27.388387 > 101 / 500 [==========                                        ] Loss: 0.48520  Patience: 8\n",
      "2024-06-10T20:58:28.388399 > 102 / 500 [==========                                        ] Loss: 0.48515  Patience: 8\n",
      "2024-06-10T20:58:29.420710 > 103 / 500 [==========                                        ] Loss: 0.48510  Patience: 8\n",
      "2024-06-10T20:58:30.415687 > 104 / 500 [==========                                        ] Loss: 0.48509  Patience: 8\n",
      "2024-06-10T20:58:31.388949 > 105 / 500 [==========                                        ] Loss: 0.48504  Patience: 8\n",
      "2024-06-10T20:58:32.403595 > 106 / 500 [==========                                        ] Loss: 0.48497  Patience: 8\n",
      "2024-06-10T20:58:33.380073 > 107 / 500 [==========                                        ] Loss: 0.48494  Patience: 8\n",
      "2024-06-10T20:58:34.358616 > 108 / 500 [==========                                        ] Loss: 0.48493  Patience: 8\n",
      "2024-06-10T20:58:35.344190 > 109 / 500 [==========                                        ] Loss: 0.48488  Patience: 8\n",
      "2024-06-10T20:58:36.327671 > 110 / 500 [===========                                       ] Loss: 0.48489  Patience: 7\n",
      "2024-06-10T20:58:37.318757 > 111 / 500 [===========                                       ] Loss: 0.48482  Patience: 7\n",
      "2024-06-10T20:58:38.303049 > 112 / 500 [===========                                       ] Loss: 0.48478  Patience: 7\n",
      "2024-06-10T20:58:39.271553 > 113 / 500 [===========                                       ] Loss: 0.48475  Patience: 7\n",
      "2024-06-10T20:58:40.257066 > 114 / 500 [===========                                       ] Loss: 0.48473  Patience: 7\n",
      "2024-06-10T20:58:41.231849 > 115 / 500 [===========                                       ] Loss: 0.48477  Patience: 6\n",
      "2024-06-10T20:58:42.211585 > 116 / 500 [===========                                       ] Loss: 0.48475  Patience: 5\n",
      "2024-06-10T20:58:43.313290 > 117 / 500 [===========                                       ] Loss: 0.48474  Patience: 4\n",
      "2024-06-10T20:58:44.292946 > 118 / 500 [===========                                       ] Loss: 0.48477  Patience: 3\n",
      "2024-06-10T20:58:45.277162 > 119 / 500 [===========                                       ] Loss: 0.48480  Patience: 2\n",
      "2024-06-10T20:58:46.265365 > 120 / 500 [============                                      ] Loss: 0.48477  Patience: 1\n",
      "\n"
     ]
    }
   ],
   "source": [
    "refiner_train_data, refiner_validation_data, refiner_test_data = format_refiner_data()\n",
    "\n",
    "N_MAX_EPOCHS = 500\n",
    "LSR = deep.NN(\n",
    "    model=cnn.UNet2DRefiner(SUBDIVISION_SIZE),\n",
    "    n_epochs=N_MAX_EPOCHS,\n",
    "    optimizer=optim.Adam,\n",
    "    loss_fn=nn.CrossEntropyLoss,\n",
    "    loss_fn_args=None,\n",
    "    use_half=False,\n",
    "    patience=10,\n",
    "    verbosity=2,\n",
    "    batch=256\n",
    ")\n",
    "LSR.train(refiner_train_data, refiner_validation_data)"
   ]
  },
  {
   "cell_type": "code",
   "execution_count": 45,
   "metadata": {},
   "outputs": [
    {
     "name": "stdout",
     "output_type": "stream",
     "text": [
      "F1 scores: [0.0, 0.111111119389534, 0.14084509015083313, 0.1355932205915451, 0.0, 0.0, 0.20000001788139343, 0.5909091234207153, 0.6060606241226196, 0.0, 0.27906978130340576, 0.1428571343421936, 0.30434781312942505, 0.2153846174478531, 0.1818181872367859, 0.072727270424366, 0.13333332538604736, 0.06666667014360428, 0.39024391770362854, 0.20689654350280762, 0.06666667014360428, 0.1666666716337204, 0.12244898080825806, 0.0, 0.06557376682758331, 0.17241378128528595, 0.03225806728005409, 0.131147563457489, 0.0, 0.2352941334247589, 0.0, 0.0, 0.1818181872367859, 0.09677419811487198, 0.125, 0.0, 0.2380952388048172, 0.0, 0.0, 0.06451612710952759, 0.1269841194152832, 0.07017543911933899, 0.0, 0.1846153885126114, 0.19999998807907104, 0.13333334028720856, 0.06451613456010818, 0.23255813121795654, 0.18867924809455872, 0.3076923191547394, 0.1090909093618393, 0.0, 0.030303029343485832, 0.033898305147886276, 0.13333332538604736, 0.25806450843811035, 0.13114753365516663, 0.20000000298023224, 0.24657535552978516, 0.09836065769195557, 0.0, 0.09677419811487198, 0.34285715222358704, 0.035087719559669495, 0.0784313753247261, 0.25641027092933655, 0.0714285671710968, 0.0, 0.05263157933950424, 0.3499999940395355, 0.19354839622974396, 0.08955224603414536, 0.1071428582072258, 0.03448275849223137, 0.32786887884140015, 0.16949152946472168, 0.06896551698446274, 0.08510638028383255, 0.0, 0.19999998807907104, 0.41025641560554504, 0.09090909361839294, 0.0, 0.0, 0.06896551698446274, 0.0, 0.1428571492433548, 0.09677419811487198, 0.0, 0.0, 0.222222238779068, 0.0, 0.06779661029577255, 0.1428571492433548, 0.16326531767845154, 0.15000000596046448, 0.0, 0.07692307978868484, 0.03225806728005409, 0.1600000113248825, 0.0, 0.09677419811487198, 0.30000001192092896, 0.0, 0.10810810327529907, 0.08955223113298416, 0.2711864411830902, 0.0, 0.0, 0.042553190141916275, 0.23529411852359772, 0.040816325694322586, 0.0, 0.0615384615957737, 0.138888880610466, 0.15094339847564697, 0.15094339847564697, 0.17910447716712952, 0.15000000596046448, 0.0, 0.0, 0.0, 0.043478261679410934, 0.0634920671582222, 0.0, 0.0, 0.0714285671710968, 0.10909091681241989, 0.0317460298538208, 0.10000000149011612, 0.2461538463830948, 0.19672130048274994, 0.0, 0.2222222238779068, 0.0, 0.1071428582072258, 0.1785714328289032, 0.17543859779834747, 0.04545454680919647, 0.125, 0.03773584961891174, 0.1818181872367859, 0.07692307978868484, 0.1666666567325592, 0.0, 0.0, 0.190476194024086, 0.35999998450279236, 0.19354838132858276, 0.06557377427816391, 0.03703703731298447, 0.12903225421905518, 0.0, 0.10526316612958908, 0.277777761220932, 0.07017543911933899, 0.3589743375778198, 0.03703703731298447, 0.10526315867900848, 0.15094341337680817, 0.158730149269104, 0.550000011920929, 0.2608695924282074, 0.1818181723356247, 0.16129031777381897, 0.1666666716337204, 0.5909091234207153, 0.13333334028720856, 0.03125, 0.14035086333751678, 0.2745097875595093, 0.0, 0.12765957415103912, 0.0, 0.07017543911933899, 0.03225806728005409, 0.0, 0.07407407462596893, 0.10169491916894913, 0.0, 0.4888888895511627, 0.0, 0.23880596458911896, 0.39024391770362854, 0.4736842215061188, 0.2857142686843872, 0.17142857611179352, 0.06451612710952759, 0.04878048971295357, 0.03448275476694107, 0.3333333432674408, 0.0, 0.07017543911933899, 0.10169491171836853, 0.10810811072587967, 0.10256410390138626, 0.09836065769195557, 0.10810810327529907, 0.34285715222358704, 0.2222222238779068, 0.0, 0.0, 0.1034482792019844, 0.2745097875595093, 0.0, 0.1538461595773697, 0.0, 0.036363635212183, 0.0714285671710968, 0.0, 0.0, 0.0, 0.2950819432735443, 0.0, 0.25806447863578796, 0.10526316612958908, 0.0, 0.0, 0.3999999761581421, 0.2295082062482834, 0.09230770170688629, 0.0923076942563057, 0.09677419811487198, 0.0, 0.1034482792019844, 0.03508772328495979, 0.1428571343421936, 0.222222238779068, 0.10526315867900848, 0.0, 0.0, 0.19512195885181427]\n",
      "Arithmetic mean: 0.1234443236768631\n"
     ]
    }
   ],
   "source": [
    "def model_3(pp: np.ndarray, mask: np.ndarray):\n",
    "    x = Estimator.predict([pp])\n",
    "    x = refine(x, pp, LSR)\n",
    "    x = OU(x, mask)\n",
    "    return x\n",
    "\n",
    "\n",
    "model_3_results = measure_performances(model_3, test_data)"
   ]
  },
  {
   "cell_type": "markdown",
   "metadata": {},
   "source": [
    "## Model 4: Refined Predictions (GSE -> OU -> LSR -> OU)"
   ]
  },
  {
   "cell_type": "code",
   "execution_count": 56,
   "metadata": {},
   "outputs": [
    {
     "name": "stderr",
     "output_type": "stream",
     "text": [
      "100%|██████████| 1860/1860 [00:08<00:00, 217.12it/s]\n",
      "100%|██████████| 232/232 [00:00<00:00, 235.16it/s]\n",
      "100%|██████████| 232/232 [00:00<00:00, 246.07it/s]\n"
     ]
    },
    {
     "name": "stdout",
     "output_type": "stream",
     "text": [
      "Sample subregions from the predictions and input data.\n"
     ]
    },
    {
     "name": "stderr",
     "output_type": "stream",
     "text": [
      " 67%|██████▋   | 1249/1860 [00:00<00:00, 3611.49it/s]\n",
      " 90%|████████▉ | 208/232 [00:00<00:00, 3582.56it/s]\n",
      " 90%|████████▉ | 208/232 [00:00<00:00, 3745.70it/s]\n"
     ]
    }
   ],
   "source": [
    "class Estimator:\n",
    "    def predict(pp) -> np.ndarray:\n",
    "        estimation = GSE.predict(pp)\n",
    "        mask = pp[0].copy()\n",
    "        mask[mask > 0] = 1\n",
    "        return OU(estimation, mask)\n",
    "\n",
    "\n",
    "save_global_estimations(Estimator, train_data, \"train_predictions.npy\")\n",
    "save_global_estimations(Estimator, validation_data, \"validation_predictions.npy\")\n",
    "save_global_estimations(Estimator, test_data, \"test_predictions.npy\")\n",
    "\n",
    "print(\"Sample subregions from the predictions and input data.\")\n",
    "sample_crops(np.load(\"tmp/train_predictions.npy\"), train_data, \"train\", 30_000, -0.01)\n",
    "sample_crops(np.load(\"tmp/validation_predictions.npy\"), validation_data, \"validation\", 5_000, -0.01)\n",
    "sample_crops(np.load(\"tmp/test_predictions.npy\"), test_data, \"test\", 5_000, -0.01)"
   ]
  },
  {
   "cell_type": "code",
   "execution_count": 57,
   "metadata": {},
   "outputs": [
    {
     "name": "stdout",
     "output_type": "stream",
     "text": [
      "2024-06-10T21:09:59.475185 > INFO Training the model with 30000 data points.\n",
      "2024-06-10T21:09:59.475185 >     Using 5016 data points for validation.\n",
      "2024-06-10T21:09:59.480168 >     Beginning the training.\n",
      "2024-06-10T21:10:01.311241 >   0 / 500 [                                                  ] Loss: 0.72161  Patience: 10\n",
      "2024-06-10T21:10:02.383482 >   1 / 500 [                                                  ] Loss: 0.69501  Patience: 10\n",
      "2024-06-10T21:10:03.428783 >   2 / 500 [                                                  ] Loss: 0.67284  Patience: 10\n",
      "2024-06-10T21:10:04.480238 >   3 / 500 [                                                  ] Loss: 0.66679  Patience: 10\n",
      "2024-06-10T21:10:05.511052 >   4 / 500 [                                                  ] Loss: 0.66145  Patience: 10\n",
      "2024-06-10T21:10:06.513965 >   5 / 500 [                                                  ] Loss: 0.65719  Patience: 10\n",
      "2024-06-10T21:10:07.542010 >   6 / 500 [                                                  ] Loss: 0.65334  Patience: 10\n",
      "2024-06-10T21:10:08.768002 >   7 / 500 [                                                  ] Loss: 0.64967  Patience: 10\n",
      "2024-06-10T21:10:09.773068 >   8 / 500 [                                                  ] Loss: 0.64653  Patience: 10\n",
      "2024-06-10T21:10:10.951024 >   9 / 500 [                                                  ] Loss: 0.64340  Patience: 10\n",
      "2024-06-10T21:10:12.031962 >  10 / 500 [=                                                 ] Loss: 0.64100  Patience: 10\n",
      "2024-06-10T21:10:13.197950 >  11 / 500 [=                                                 ] Loss: 0.63872  Patience: 10\n",
      "2024-06-10T21:10:14.453463 >  12 / 500 [=                                                 ] Loss: 0.63691  Patience: 10\n",
      "2024-06-10T21:10:15.799876 >  13 / 500 [=                                                 ] Loss: 0.63545  Patience: 10\n",
      "2024-06-10T21:10:16.854300 >  14 / 500 [=                                                 ] Loss: 0.63432  Patience: 10\n",
      "2024-06-10T21:10:17.915270 >  15 / 500 [=                                                 ] Loss: 0.63365  Patience: 10\n",
      "2024-06-10T21:10:19.100816 >  16 / 500 [=                                                 ] Loss: 0.63170  Patience: 10\n",
      "2024-06-10T21:10:20.204091 >  17 / 500 [=                                                 ] Loss: 0.63049  Patience: 10\n",
      "2024-06-10T21:10:21.260856 >  18 / 500 [=                                                 ] Loss: 0.62980  Patience: 10\n",
      "2024-06-10T21:10:22.238141 >  19 / 500 [=                                                 ] Loss: 0.62860  Patience: 10\n",
      "2024-06-10T21:10:23.288772 >  20 / 500 [==                                                ] Loss: 0.62758  Patience: 10\n",
      "2024-06-10T21:10:24.326734 >  21 / 500 [==                                                ] Loss: 0.62665  Patience: 10\n",
      "2024-06-10T21:10:25.358025 >  22 / 500 [==                                                ] Loss: 0.62628  Patience: 10\n",
      "2024-06-10T21:10:26.404991 >  23 / 500 [==                                                ] Loss: 0.62552  Patience: 10\n",
      "2024-06-10T21:10:27.468326 >  24 / 500 [==                                                ] Loss: 0.62456  Patience: 10\n",
      "2024-06-10T21:10:28.563065 >  25 / 500 [==                                                ] Loss: 0.62439  Patience: 10\n",
      "2024-06-10T21:10:29.694589 >  26 / 500 [==                                                ] Loss: 0.62396  Patience: 10\n",
      "2024-06-10T21:10:30.805591 >  27 / 500 [==                                                ] Loss: 0.62366  Patience: 10\n",
      "2024-06-10T21:10:31.842389 >  28 / 500 [==                                                ] Loss: 0.62266  Patience: 10\n",
      "2024-06-10T21:10:32.869787 >  29 / 500 [==                                                ] Loss: 0.62222  Patience: 10\n",
      "2024-06-10T21:10:33.921471 >  30 / 500 [===                                               ] Loss: 0.62157  Patience: 10\n",
      "2024-06-10T21:10:34.961781 >  31 / 500 [===                                               ] Loss: 0.62157  Patience: 10\n",
      "2024-06-10T21:10:36.006938 >  32 / 500 [===                                               ] Loss: 0.62127  Patience: 10\n",
      "2024-06-10T21:10:37.089368 >  33 / 500 [===                                               ] Loss: 0.62009  Patience: 10\n",
      "2024-06-10T21:10:38.154505 >  34 / 500 [===                                               ] Loss: 0.61979  Patience: 10\n",
      "2024-06-10T21:10:39.183742 >  35 / 500 [===                                               ] Loss: 0.62009  Patience: 9\n",
      "2024-06-10T21:10:40.390243 >  36 / 500 [===                                               ] Loss: 0.61976  Patience: 9\n",
      "2024-06-10T21:10:41.511850 >  37 / 500 [===                                               ] Loss: 0.61889  Patience: 9\n",
      "2024-06-10T21:10:42.535400 >  38 / 500 [===                                               ] Loss: 0.61900  Patience: 8\n",
      "2024-06-10T21:10:43.600186 >  39 / 500 [===                                               ] Loss: 0.61842  Patience: 8\n",
      "2024-06-10T21:10:44.658907 >  40 / 500 [====                                              ] Loss: 0.61832  Patience: 8\n",
      "2024-06-10T21:10:45.643199 >  41 / 500 [====                                              ] Loss: 0.61784  Patience: 8\n",
      "2024-06-10T21:10:46.625961 >  42 / 500 [====                                              ] Loss: 0.61755  Patience: 8\n",
      "2024-06-10T21:10:47.631264 >  43 / 500 [====                                              ] Loss: 0.61747  Patience: 8\n",
      "2024-06-10T21:10:48.647354 >  44 / 500 [====                                              ] Loss: 0.61730  Patience: 8\n",
      "2024-06-10T21:10:49.745051 >  45 / 500 [====                                              ] Loss: 0.61698  Patience: 8\n",
      "2024-06-10T21:10:50.841800 >  46 / 500 [====                                              ] Loss: 0.61624  Patience: 8\n",
      "2024-06-10T21:10:51.983080 >  47 / 500 [====                                              ] Loss: 0.61645  Patience: 7\n",
      "2024-06-10T21:10:53.092372 >  48 / 500 [====                                              ] Loss: 0.61581  Patience: 7\n",
      "2024-06-10T21:10:54.175410 >  49 / 500 [====                                              ] Loss: 0.61626  Patience: 6\n",
      "2024-06-10T21:10:55.410361 >  50 / 500 [=====                                             ] Loss: 0.61592  Patience: 5\n",
      "2024-06-10T21:10:56.495088 >  51 / 500 [=====                                             ] Loss: 0.61595  Patience: 4\n",
      "2024-06-10T21:10:57.532435 >  52 / 500 [=====                                             ] Loss: 0.61562  Patience: 4\n",
      "2024-06-10T21:10:58.564642 >  53 / 500 [=====                                             ] Loss: 0.61529  Patience: 4\n",
      "2024-06-10T21:10:59.625994 >  54 / 500 [=====                                             ] Loss: 0.61496  Patience: 4\n",
      "2024-06-10T21:11:00.791145 >  55 / 500 [=====                                             ] Loss: 0.61511  Patience: 3\n",
      "2024-06-10T21:11:01.801815 >  56 / 500 [=====                                             ] Loss: 0.61515  Patience: 2\n",
      "2024-06-10T21:11:02.809097 >  57 / 500 [=====                                             ] Loss: 0.61509  Patience: 1\n",
      "2024-06-10T21:11:03.795286 >  58 / 500 [=====                                             ] Loss: 0.61455  Patience: 1\n",
      "2024-06-10T21:11:04.790895 >  59 / 500 [=====                                             ] Loss: 0.61428  Patience: 1\n",
      "\n"
     ]
    }
   ],
   "source": [
    "refiner_train_data, refiner_validation_data, refiner_test_data = format_refiner_data()\n",
    "\n",
    "N_MAX_EPOCHS = 500\n",
    "LSR = deep.NN(\n",
    "    model=cnn.UNet2DRefiner(SUBDIVISION_SIZE),\n",
    "    n_epochs=N_MAX_EPOCHS,\n",
    "    optimizer=optim.Adam,\n",
    "    loss_fn=nn.CrossEntropyLoss,\n",
    "    use_half=False,\n",
    "    patience=10,\n",
    "    verbosity=2,\n",
    "    batch=256\n",
    ")\n",
    "LSR.train(refiner_train_data, refiner_validation_data)"
   ]
  },
  {
   "cell_type": "code",
   "execution_count": 68,
   "metadata": {},
   "outputs": [
    {
     "name": "stdout",
     "output_type": "stream",
     "text": [
      "F1 scores: [0.5306122303009033, 0.7567567825317383, 0.7894736528396606, 0.37837839126586914, 0.0, 0.4000000059604645, 0.695652186870575, 0.3265306055545807, 0.476190447807312, 0.7297297120094299, 0.5833333134651184, 0.29787230491638184, 0.3913043737411499, 0.824999988079071, 0.7777777910232544, 0.14035087823867798, 0.6666666865348816, 0.39436620473861694, 0.6956521272659302, 0.6849315166473389, 0.746666669845581, 0.20000000298023224, 0.2545454502105713, 0.5135135054588318, 0.2432432472705841, 0.7435897588729858, 0.7027027010917664, 0.8219177722930908, 0.3749999701976776, 0.5070422887802124, 0.1875, 0.7792208194732666, 0.31111112236976624, 0.637681245803833, 0.7407407164573669, 0.0, 0.4583333432674408, 0.5066667199134827, 0.6756756901741028, 0.35483869910240173, 0.5526316165924072, 0.37681159377098083, 0.5675675868988037, 0.6197183132171631, 0.7199999094009399, 0.7179486751556396, 0.21212120354175568, 0.2916666269302368, 0.26865673065185547, 0.4262295365333557, 0.3188406229019165, 0.0, 0.7894737124443054, 0.6849315166473389, 0.37735849618911743, 0.4507042169570923, 0.8157894611358643, 0.5833333134651184, 0.5945946574211121, 0.6753246784210205, 0.64000004529953, 0.48571428656578064, 0.523809552192688, 0.7894737124443054, 0.10526315867900848, 0.35555556416511536, 0.7179486751556396, 0.4923076927661896, 0.2857142984867096, 0.5106382966041565, 0.8684210181236267, 0.7341772317886353, 0.3529411852359772, 0.6197183132171631, 0.4848484992980957, 0.7469879388809204, 0.4507042467594147, 0.19607843458652496, 0.0, 0.7199999094009399, 0.604651153087616, 0.13698630034923553, 0.0, 0.14705881476402283, 0.7951806783676147, 0.3181818127632141, 0.2978723645210266, 0.7397260665893555, 0.3188405930995941, 0.22641511261463165, 0.0, 0.5479452013969421, 0.22857144474983215, 0.125, 0.33898302912712097, 0.4761904776096344, 0.21052631735801697, 0.39393937587738037, 0.8461538553237915, 0.5200000405311584, 0.5974026322364807, 0.5263158082962036, 0.4761904776096344, 0.0, 0.7105263471603394, 0.7654321193695068, 0.5, 0.6086956858634949, 0.7792208194732666, 0.2352941334247589, 0.21052633225917816, 0.45945945382118225, 0.4556962251663208, 0.45333331823349, 0.5569620132446289, 0.5205479860305786, 0.49275365471839905, 0.4675324857234955, 0.325581431388855, 0.6052631735801697, 0.0, 0.7200000286102295, 0.26865673065185547, 0.6760563850402832, 0.3380281627178192, 0.5714285969734192, 0.8607594966888428, 0.7042253613471985, 0.8311688303947449, 0.5277777314186096, 0.8101266026496887, 0.7272727489471436, 0.222222238779068, 0.3287671208381653, 0.4444444477558136, 0.5277777314186096, 0.4166666567325592, 0.45945945382118225, 0.444444477558136, 0.6571428775787354, 0.4923076927661896, 0.31111112236976624, 0.4705882668495178, 0.032786883413791656, 0.41558441519737244, 0.5897436738014221, 0.5217391848564148, 0.2608695924282074, 0.5, 0.7733333706855774, 0.46666666865348816, 0.5411764979362488, 0.10000000149011612, 0.3692307770252228, 0.22857142984867096, 0.6027397513389587, 0.6086956262588501, 0.4444444477558136, 0.5714285373687744, 0.5833333730697632, 0.5454545617103577, 0.44897961616516113, 0.6521739363670349, 0.1846153885126114, 0.7469879388809204, 0.2666666805744171, 0.5, 0.8219178318977356, 0.7749999761581421, 0.6842105388641357, 0.2142857313156128, 0.4285714328289032, 0.5283018946647644, 0.675675630569458, 0.7341771721839905, 0.48000001907348633, 0.0, 0.7123287916183472, 0.4705882668495178, 0.2857142686843872, 0.5652173757553101, 0.3333333134651184, 0.6578947305679321, 0.4897959530353546, 0.5833333134651184, 0.5633803009986877, 0.4680851399898529, 0.7631579041481018, 0.3999999761581421, 0.7397260069847107, 0.6666666865348816, 0.40816324949264526, 0.48000001907348633, 0.4871795177459717, 0.12000000476837158, 0.5714285373687744, 0.375, 0.20408162474632263, 0.523809552192688, 0.3999999761581421, 0.0, 0.3333333432674408, 0.4810126721858978, 0.24489794671535492, 0.5573770403862, 0.325581431388855, 0.25925925374031067, 0.7605633735656738, 0.48571428656578064, 0.08695652335882187, 0.190476194024086, 0.8108108043670654, 0.59375, 0.0, 0.5428571105003357, 0.8266666531562805, 0.7397260069847107, 0.7272727489471436, 0.45454543828964233, 0.5714285969734192, 0.7894737124443054, 0.815789520740509, 0.9295774698257446, 0.5641025900840759, 0.2857142984867096, 0.7200000286102295, 0.3499999940395355, 0.7792207598686218, 0.7999999523162842, 0.4814814627170563, 0.26865673065185547, 0.6511628031730652]\n",
      "Arithmetic mean: 0.48813628787495966\n"
     ]
    }
   ],
   "source": [
    "def model_4(pp: np.ndarray, mask: np.ndarray):\n",
    "    x = Estimator.predict([pp])\n",
    "    y = refine(x, pp, LSR)\n",
    "    x *= y\n",
    "    x = OU(x, mask)\n",
    "    return x\n",
    "\n",
    "\n",
    "model_4_results = measure_performances(model_4, test_data)"
   ]
  },
  {
   "cell_type": "code",
   "execution_count": 66,
   "metadata": {},
   "outputs": [
    {
     "data": {
      "image/png": "[encoded data removed]",
      "text/plain": [
       "<Figure size 640x480 with 1 Axes>"
      ]
     },
     "metadata": {},
     "output_type": "display_data"
    },
    {
     "name": "stdout",
     "output_type": "stream",
     "text": [
      "F1 score: 0.5306122303009033\n"
     ]
    },
    {
     "data": {
      "image/png": "[encoded data removed]",
      "text/plain": [
       "<Figure size 640x480 with 1 Axes>"
      ]
     },
     "metadata": {},
     "output_type": "display_data"
    },
    {
     "name": "stdout",
     "output_type": "stream",
     "text": [
      "F1 score: 0.5306122303009033\n"
     ]
    }
   ],
   "source": [
    "inspect(model_4, test_data, 0)\n",
    "inspect(model_1, test_data, 0)"
   ]
  }
 ],
 "metadata": {
  "kernelspec": {
   "display_name": "venv",
   "language": "python",
   "name": "python3"
  },
  "language_info": {
   "codemirror_mode": {
    "name": "ipython",
    "version": 3
   },
   "file_extension": ".py",
   "mimetype": "text/x-python",
   "name": "python",
   "nbconvert_exporter": "python",
   "pygments_lexer": "ipython3",
   "version": "3.11.2"
  }
 },
 "nbformat": 4,
 "nbformat_minor": 2
}
