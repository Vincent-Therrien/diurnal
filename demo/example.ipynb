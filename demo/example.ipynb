{
 "cells": [
  {
   "attachments": {},
   "cell_type": "markdown",
   "id": "5401f27f",
   "metadata": {},
   "source": [
    "# `diurnal` Library Demonstration\n",
    "\n",
    "This notebook shows how to use the `diurnal` library to determine RNA secondary structures with neural networks."
   ]
  },
  {
   "attachments": {},
   "cell_type": "markdown",
   "id": "c3c6cee0",
   "metadata": {},
   "source": [
    "## Obtain Data\n",
    "\n",
    "The module `diurnal.database` can download the following RNA databases:\n",
    "\n",
    "| Database name  | Number of molecules | URL of the original database\n",
    "| -------------- | ------------------- | ------------------------------\n",
    "| archiveII      | 3975 | https://rna.urmc.rochester.edu/pub/archiveII.tar.gz |\n",
    "| RNASTRalign    | 37149 | https://www.urmc.rochester.edu/rna/ |\n",
    "| RNA_STRAND     | 4666 | http://www.rnasoft.ca/strand/ |\n",
    "\n",
    "The code:"
   ]
  },
  {
   "cell_type": "code",
   "execution_count": null,
   "id": "3f4a501e",
   "metadata": {},
   "outputs": [],
   "source": [
    "from diurnal import database\n",
    "\n",
    "database.download(\"./data/\", \"archiveII\")"
   ]
  },
  {
   "attachments": {},
   "cell_type": "markdown",
   "id": "a2630fba",
   "metadata": {},
   "source": [
    "downloads the `archiveII` dataset in the directory `./data/`. RNA molecules are described with two structures:\n",
    "\n",
    "- The **primary structure** is a *sequence* of nuclotides, which is represented by a string of four characters: `A`, `C`, `G`, and `U`.\n",
    "- The **secondary structure** describes the *pairing* of nucleotides, which is represented in the databases by a list of indices. The value `0` indicates that a nucleotide is unpaired."
   ]
  },
  {
   "attachments": {},
   "cell_type": "markdown",
   "id": "67d144c7",
   "metadata": {},
   "source": [
    "## Format Data\n",
    "\n",
    "Since neural networks use numerical vectors as inputs and outpus, the content of RNA databases must be converted into numerical types for training.\n",
    "\n",
    "The **primary structure** (for instance, `AAACCCUUU`) can be converted to a numerical vector through *one0hot encoding*, which consists in assigning an orthogonal to each different letter.\n",
    "\n",
    "The **secondary structure** (for instance, `[8, 7, 6, -1, -1, -1, 2, 1, 0]`) can be used as it is, but this representation is difficult to predict because of its high dimentionality. The secondary structure can be converted into simpler representations:\n",
    "\n",
    "- The **bracket notation** represents unpaired nucleotides with the character `.` and paired nucleotides with the character `(` or `)` depending on whether the paired base is located nearer the 5' or 3' end of the molecule. The bracket notation can then be one-hot encoded.\n",
    "- the **shadow** represents paired nucleotide with the number `0` and paired nucleotides with the character `1`. This representation does not fully describe the secondary structure and it is simpler to predict.\n",
    "\n",
    "For example:"
   ]
  },
  {
   "cell_type": "code",
   "execution_count": 2,
   "id": "aa5d5b50",
   "metadata": {},
   "outputs": [
    {
     "name": "stdout",
     "output_type": "stream",
     "text": [
      "One-hot encoded primary structure:\n",
      "[[1 0 0 0]\n",
      " [1 0 0 0]\n",
      " [1 0 0 0]\n",
      " [0 1 0 0]\n",
      " [0 1 0 0]\n",
      " [0 1 0 0]\n",
      " [0 0 0 1]\n",
      " [0 0 0 1]\n",
      " [0 0 0 1]]\n",
      "\n",
      "Bracket notation of the secondary structure:\n",
      "['(', '(', '(', '.', '.', '.', ')', ')', ')']\n",
      "\n",
      "One-hot encoded secondary structure:\n",
      "[[1 0 0]\n",
      " [1 0 0]\n",
      " [1 0 0]\n",
      " [0 1 0]\n",
      " [0 1 0]\n",
      " [0 1 0]\n",
      " [0 0 1]\n",
      " [0 0 1]\n",
      " [0 0 1]]\n",
      "\n",
      "Shadow of the secondary structure:\n",
      "[1, 1, 1, 0, 0, 0, 1, 1, 1]\n",
      "\n"
     ]
    }
   ],
   "source": [
    "from diurnal.structure import Primary, Secondary\n",
    "\n",
    "primary_structure = \"AAACCCUUU\"\n",
    "secondary_structure = [8, 7, 6, -1, -1, -1, 2, 1, 0]\n",
    "\n",
    "print(\"One-hot encoded primary structure:\")\n",
    "print(Primary.to_vector(primary_structure))\n",
    "print()\n",
    "\n",
    "print(\"Bracket notation of the secondary structure:\")\n",
    "print(Secondary.to_bracket(secondary_structure))\n",
    "print()\n",
    "\n",
    "print(\"One-hot encoded secondary structure:\")\n",
    "print(Secondary.to_vector(secondary_structure))\n",
    "print()\n",
    "\n",
    "print(\"Shadow of the secondary structure:\")\n",
    "print(Secondary.to_shadow(secondary_structure))\n",
    "print()"
   ]
  },
  {
   "attachments": {},
   "cell_type": "markdown",
   "id": "030f68c3",
   "metadata": {},
   "source": [
    "The library can read all the molecules of a database, encode them according to a specific schema, and write the resulting data in reusable files, as shown below:"
   ]
  },
  {
   "cell_type": "code",
   "execution_count": 5,
   "id": "f15e14fe",
   "metadata": {},
   "outputs": [
    {
     "name": "stdout",
     "output_type": "stream",
     "text": [
      "2023-07-12T21:59:04.556071 > INFO Format RNA data into Numpy files.\n",
      "2023-07-12T21:59:05.428057 >     The directory ../data/formatted/ already contains the formatted data.\n"
     ]
    }
   ],
   "source": [
    "from diurnal import database, structure\n",
    "\n",
    "database.format(\n",
    "    \"../data/archiveII\",  # Directory of the raw data to format.\n",
    "    \"../data/formatted\",  # Formatted data output directory.\n",
    "    512,  # Normalized size. Short molecules are padded at the 3' end.\n",
    "    structure.Primary.to_vector,  # Primary to vector map.\n",
    "    structure.Secondary.to_vector  # Secondary to vector map.\n",
    ")"
   ]
  },
  {
   "attachments": {},
   "cell_type": "markdown",
   "id": "1ff7eac7",
   "metadata": {},
   "source": [
    "## Split Data for Training and Testing\n",
    "\n",
    "Formatted data must be split into training and testing sets to elaborate and test predictive models. One way to do this is to use one RNA family (a group of similar RNA molecules) for testing. This ensures that the model is generic enough to predict the structure of molecules that are different from the ones comprised in the training set. "
   ]
  },
  {
   "cell_type": "code",
   "execution_count": 1,
   "id": "cb3c60dc",
   "metadata": {},
   "outputs": [
    {
     "name": "stdout",
     "output_type": "stream",
     "text": [
      "2023-07-12T22:02:48.046642 > INFO Loading the family 5s from `../data/formatted`.\n",
      "2023-07-12T22:02:48.081373 > INFO Loading the families ['16s', '23s', 'grp1', 'grp2', 'RNaseP', 'SRP', 'telomerase', 'tmRNA', 'tRNA'] from `../data/formatted`.\n"
     ]
    }
   ],
   "source": [
    "from diurnal import train, family\n",
    "\n",
    "test_set = train.load_families(\"../data/formatted\", \"5s\")\n",
    "train_set = train.load_families(\"../data/formatted\", family.all_but(\"5s\"))"
   ]
  },
  {
   "attachments": {},
   "cell_type": "markdown",
   "id": "3be2086e",
   "metadata": {},
   "source": [
    "## Train a Model\n",
    "\n",
    "The library contains examples of predictive models that can be loaded, trained, and evaluated as shown below:"
   ]
  },
  {
   "cell_type": "code",
   "execution_count": null,
   "id": "2a0f2d81",
   "metadata": {},
   "outputs": [],
   "source": [
    "import torch\n",
    "from diurnal import models\n",
    "\n",
    "model = models.NN(\n",
    "    model=models.networks.cnn.Pairings_1,\n",
    "    N=512,\n",
    "    n_epochs=3,\n",
    "    optimizer=torch.optim.Adam,\n",
    "    loss_fn=torch.nn.MSELoss,\n",
    "    optimizer_args={\"eps\": 1e-4},\n",
    "    loss_fn_args=None,\n",
    "    verbosity=1)\n",
    "model.train(train_set)"
   ]
  },
  {
   "attachments": {},
   "cell_type": "markdown",
   "id": "d626ee25",
   "metadata": {},
   "source": [
    "In this example above, the object `diurnal.models.NN` is a model that simply wraps a `pytorch` neural network. The model receives as arguments an optimizer and loss function that are used to train the network."
   ]
  },
  {
   "attachments": {},
   "cell_type": "markdown",
   "id": "ac1ac8a5",
   "metadata": {},
   "source": [
    "## Predict Structures\n",
    "\n",
    "Trained models can predict secondary structures from primary structures as follows:"
   ]
  },
  {
   "cell_type": "code",
   "execution_count": null,
   "id": "58c45572",
   "metadata": {},
   "outputs": [],
   "source": [
    "from diurnal import structure\n",
    "\n",
    "primary_structure = list(\"AAAACCCCUUUU\")\n",
    "encoded_primary_structure = structure.Primary.to_vector(primary_structure)\n",
    "prediction = model.predict(encoded_primary_structure)\n",
    "print(f\"Prediction: {prediction}\")"
   ]
  },
  {
   "attachments": {},
   "cell_type": "markdown",
   "id": "d708b0ce",
   "metadata": {},
   "source": [
    "## Evaluate Results\n",
    "\n",
    "Predictions can be evaluated with two metrics:\n",
    "\n",
    "- **Recall** (or sensitivity or true positive rate) is the probability that a positive prediction is actually positive.\n",
    "- **Precision** (or positive predictive value) is the fraction of relevant elements among retrieved elements.\n",
    "\n",
    "The F1-score is the geometric mean of recall and precision."
   ]
  },
  {
   "cell_type": "code",
   "execution_count": null,
   "id": "cf0affd6",
   "metadata": {},
   "outputs": [],
   "source": [
    "from diurnal import evaluate\n",
    "\n",
    "true = list(\"(((....)))\")\n",
    "prediction = list(\"((......))\")\n",
    "recall, precision, f1 = evaluate.recall_precision_f1(true, prediction)"
   ]
  },
  {
   "attachments": {},
   "cell_type": "markdown",
   "id": "9bc60a57",
   "metadata": {},
   "source": [
    "The library also contains **baseline models** that make very simple predictions to compare results with actual predictive models."
   ]
  },
  {
   "cell_type": "code",
   "execution_count": null,
   "id": "8e5016a4",
   "metadata": {},
   "outputs": [],
   "source": [
    "from diurnal.models import baseline\n",
    "\n",
    "baseline_model = baseline.Random()\n",
    "baseline_model.train(train_set)\n",
    "prediction = baseline_model.predict(encoded_primary_structure)\n",
    "print(f\"Prediction: {prediction}\")"
   ]
  },
  {
   "attachments": {},
   "cell_type": "markdown",
   "id": "73197a28",
   "metadata": {},
   "source": [
    "## Save Models\n",
    "\n",
    "Predictive models can be written in the file system to be loaded and used subsequently."
   ]
  },
  {
   "cell_type": "code",
   "execution_count": null,
   "id": "e3636b13",
   "metadata": {},
   "outputs": [],
   "source": [
    "model.save(directory = \"saved_model\")"
   ]
  },
  {
   "attachments": {},
   "cell_type": "markdown",
   "id": "1e3d79c3",
   "metadata": {},
   "source": [
    "## Load Models\n",
    "\n",
    "Models can be loaded from the file system to replicate results."
   ]
  },
  {
   "cell_type": "code",
   "execution_count": null,
   "id": "285bfbdf",
   "metadata": {},
   "outputs": [],
   "source": [
    "from diurnal import models\n",
    "\n",
    "model = models.NN(\n",
    "   cnn.Pairings_1,\n",
    "   SIZE,\n",
    "   None,\n",
    "   torch.optim.Adam,\n",
    "   torch.nn.MSELoss,\n",
    "   {\"eps\": 1e-4},\n",
    "   None,\n",
    "   verbosity=1)\n",
    "model.load(\"saved_model\")"
   ]
  },
  {
   "attachments": {},
   "cell_type": "markdown",
   "id": "9e91825a",
   "metadata": {},
   "source": [
    "## Visualize Results\n",
    "\n",
    "The library contains a data visualization module to view results."
   ]
  },
  {
   "cell_type": "code",
   "execution_count": null,
   "id": "f5f14ec9",
   "metadata": {},
   "outputs": [],
   "source": [
    "from diurnal import visualize\n",
    "\n",
    "print(f\"\\nSample prediction from the test set (`{test_set['names'][0]}`).\")\n",
    "p = test_set[\"primary_structures\"][0]\n",
    "s = test_set[\"secondary_structures\"][0]\n",
    "visualize.prediction(p, s, loaded_model.predict(p))"
   ]
  }
 ],
 "metadata": {
  "kernelspec": {
   "display_name": "Python 3 (ipykernel)",
   "language": "python",
   "name": "python3"
  },
  "language_info": {
   "codemirror_mode": {
    "name": "ipython",
    "version": 3
   },
   "file_extension": ".py",
   "mimetype": "text/x-python",
   "name": "python",
   "nbconvert_exporter": "python",
   "pygments_lexer": "ipython3",
   "version": "3.7.9"
  }
 },
 "nbformat": 4,
 "nbformat_minor": 5
}
